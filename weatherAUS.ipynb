{
 "cells": [
  {
   "cell_type": "code",
   "execution_count": 1,
   "id": "384d0d24-766d-4129-963a-fd8c2dcb7cdf",
   "metadata": {},
   "outputs": [],
   "source": [
    "import pandas as pd\n",
    "import numpy as np\n",
    "import lightgbm as lgb\n",
    "import optuna\n",
    "from sklearn.model_selection import train_test_split\n",
    "from sklearn.metrics import roc_auc_score\n",
    "from sklearn.preprocessing import LabelEncoder\n"
   ]
  },
  {
   "cell_type": "code",
   "execution_count": 18,
   "id": "c975b70b-c3bc-4a77-8d6d-b4e279c79206",
   "metadata": {},
   "outputs": [
    {
     "data": {
      "text/html": [
       "<div>\n",
       "<style scoped>\n",
       "    .dataframe tbody tr th:only-of-type {\n",
       "        vertical-align: middle;\n",
       "    }\n",
       "\n",
       "    .dataframe tbody tr th {\n",
       "        vertical-align: top;\n",
       "    }\n",
       "\n",
       "    .dataframe thead th {\n",
       "        text-align: right;\n",
       "    }\n",
       "</style>\n",
       "<table border=\"1\" class=\"dataframe\">\n",
       "  <thead>\n",
       "    <tr style=\"text-align: right;\">\n",
       "      <th></th>\n",
       "      <th>Date</th>\n",
       "      <th>Location</th>\n",
       "      <th>MinTemp</th>\n",
       "      <th>MaxTemp</th>\n",
       "      <th>Rainfall</th>\n",
       "      <th>Evaporation</th>\n",
       "      <th>Sunshine</th>\n",
       "      <th>WindGustDir</th>\n",
       "      <th>WindGustSpeed</th>\n",
       "      <th>WindDir9am</th>\n",
       "      <th>...</th>\n",
       "      <th>Humidity9am</th>\n",
       "      <th>Humidity3pm</th>\n",
       "      <th>Pressure9am</th>\n",
       "      <th>Pressure3pm</th>\n",
       "      <th>Cloud9am</th>\n",
       "      <th>Cloud3pm</th>\n",
       "      <th>Temp9am</th>\n",
       "      <th>Temp3pm</th>\n",
       "      <th>RainToday</th>\n",
       "      <th>RainTomorrow</th>\n",
       "    </tr>\n",
       "  </thead>\n",
       "  <tbody>\n",
       "    <tr>\n",
       "      <th>0</th>\n",
       "      <td>2008-12-01</td>\n",
       "      <td>Albury</td>\n",
       "      <td>13.4</td>\n",
       "      <td>22.9</td>\n",
       "      <td>0.6</td>\n",
       "      <td>NaN</td>\n",
       "      <td>NaN</td>\n",
       "      <td>W</td>\n",
       "      <td>44.0</td>\n",
       "      <td>W</td>\n",
       "      <td>...</td>\n",
       "      <td>71.0</td>\n",
       "      <td>22.0</td>\n",
       "      <td>1007.7</td>\n",
       "      <td>1007.1</td>\n",
       "      <td>8.0</td>\n",
       "      <td>NaN</td>\n",
       "      <td>16.9</td>\n",
       "      <td>21.8</td>\n",
       "      <td>No</td>\n",
       "      <td>No</td>\n",
       "    </tr>\n",
       "    <tr>\n",
       "      <th>1</th>\n",
       "      <td>2008-12-02</td>\n",
       "      <td>Albury</td>\n",
       "      <td>7.4</td>\n",
       "      <td>25.1</td>\n",
       "      <td>0.0</td>\n",
       "      <td>NaN</td>\n",
       "      <td>NaN</td>\n",
       "      <td>WNW</td>\n",
       "      <td>44.0</td>\n",
       "      <td>NNW</td>\n",
       "      <td>...</td>\n",
       "      <td>44.0</td>\n",
       "      <td>25.0</td>\n",
       "      <td>1010.6</td>\n",
       "      <td>1007.8</td>\n",
       "      <td>NaN</td>\n",
       "      <td>NaN</td>\n",
       "      <td>17.2</td>\n",
       "      <td>24.3</td>\n",
       "      <td>No</td>\n",
       "      <td>No</td>\n",
       "    </tr>\n",
       "    <tr>\n",
       "      <th>2</th>\n",
       "      <td>2008-12-03</td>\n",
       "      <td>Albury</td>\n",
       "      <td>12.9</td>\n",
       "      <td>25.7</td>\n",
       "      <td>0.0</td>\n",
       "      <td>NaN</td>\n",
       "      <td>NaN</td>\n",
       "      <td>WSW</td>\n",
       "      <td>46.0</td>\n",
       "      <td>W</td>\n",
       "      <td>...</td>\n",
       "      <td>38.0</td>\n",
       "      <td>30.0</td>\n",
       "      <td>1007.6</td>\n",
       "      <td>1008.7</td>\n",
       "      <td>NaN</td>\n",
       "      <td>2.0</td>\n",
       "      <td>21.0</td>\n",
       "      <td>23.2</td>\n",
       "      <td>No</td>\n",
       "      <td>No</td>\n",
       "    </tr>\n",
       "    <tr>\n",
       "      <th>3</th>\n",
       "      <td>2008-12-04</td>\n",
       "      <td>Albury</td>\n",
       "      <td>9.2</td>\n",
       "      <td>28.0</td>\n",
       "      <td>0.0</td>\n",
       "      <td>NaN</td>\n",
       "      <td>NaN</td>\n",
       "      <td>NE</td>\n",
       "      <td>24.0</td>\n",
       "      <td>SE</td>\n",
       "      <td>...</td>\n",
       "      <td>45.0</td>\n",
       "      <td>16.0</td>\n",
       "      <td>1017.6</td>\n",
       "      <td>1012.8</td>\n",
       "      <td>NaN</td>\n",
       "      <td>NaN</td>\n",
       "      <td>18.1</td>\n",
       "      <td>26.5</td>\n",
       "      <td>No</td>\n",
       "      <td>No</td>\n",
       "    </tr>\n",
       "    <tr>\n",
       "      <th>4</th>\n",
       "      <td>2008-12-05</td>\n",
       "      <td>Albury</td>\n",
       "      <td>17.5</td>\n",
       "      <td>32.3</td>\n",
       "      <td>1.0</td>\n",
       "      <td>NaN</td>\n",
       "      <td>NaN</td>\n",
       "      <td>W</td>\n",
       "      <td>41.0</td>\n",
       "      <td>ENE</td>\n",
       "      <td>...</td>\n",
       "      <td>82.0</td>\n",
       "      <td>33.0</td>\n",
       "      <td>1010.8</td>\n",
       "      <td>1006.0</td>\n",
       "      <td>7.0</td>\n",
       "      <td>8.0</td>\n",
       "      <td>17.8</td>\n",
       "      <td>29.7</td>\n",
       "      <td>No</td>\n",
       "      <td>No</td>\n",
       "    </tr>\n",
       "  </tbody>\n",
       "</table>\n",
       "<p>5 rows × 23 columns</p>\n",
       "</div>"
      ],
      "text/plain": [
       "         Date Location  MinTemp  MaxTemp  Rainfall  Evaporation  Sunshine  \\\n",
       "0  2008-12-01   Albury     13.4     22.9       0.6          NaN       NaN   \n",
       "1  2008-12-02   Albury      7.4     25.1       0.0          NaN       NaN   \n",
       "2  2008-12-03   Albury     12.9     25.7       0.0          NaN       NaN   \n",
       "3  2008-12-04   Albury      9.2     28.0       0.0          NaN       NaN   \n",
       "4  2008-12-05   Albury     17.5     32.3       1.0          NaN       NaN   \n",
       "\n",
       "  WindGustDir  WindGustSpeed WindDir9am  ... Humidity9am  Humidity3pm  \\\n",
       "0           W           44.0          W  ...        71.0         22.0   \n",
       "1         WNW           44.0        NNW  ...        44.0         25.0   \n",
       "2         WSW           46.0          W  ...        38.0         30.0   \n",
       "3          NE           24.0         SE  ...        45.0         16.0   \n",
       "4           W           41.0        ENE  ...        82.0         33.0   \n",
       "\n",
       "   Pressure9am  Pressure3pm  Cloud9am  Cloud3pm  Temp9am  Temp3pm  RainToday  \\\n",
       "0       1007.7       1007.1       8.0       NaN     16.9     21.8         No   \n",
       "1       1010.6       1007.8       NaN       NaN     17.2     24.3         No   \n",
       "2       1007.6       1008.7       NaN       2.0     21.0     23.2         No   \n",
       "3       1017.6       1012.8       NaN       NaN     18.1     26.5         No   \n",
       "4       1010.8       1006.0       7.0       8.0     17.8     29.7         No   \n",
       "\n",
       "   RainTomorrow  \n",
       "0            No  \n",
       "1            No  \n",
       "2            No  \n",
       "3            No  \n",
       "4            No  \n",
       "\n",
       "[5 rows x 23 columns]"
      ]
     },
     "execution_count": 18,
     "metadata": {},
     "output_type": "execute_result"
    }
   ],
   "source": [
    "\n",
    "# Load Dataset\n",
    "df = pd.read_csv(\"weatherAUS.csv\") \n",
    "df.head()\n"
   ]
  },
  {
   "cell_type": "code",
   "execution_count": 19,
   "id": "72346daf-338b-41df-8e82-09a47ca486d9",
   "metadata": {},
   "outputs": [
    {
     "name": "stdout",
     "output_type": "stream",
     "text": [
      "<class 'pandas.core.frame.DataFrame'>\n",
      "RangeIndex: 145460 entries, 0 to 145459\n",
      "Data columns (total 23 columns):\n",
      " #   Column         Non-Null Count   Dtype  \n",
      "---  ------         --------------   -----  \n",
      " 0   Date           145460 non-null  object \n",
      " 1   Location       145460 non-null  object \n",
      " 2   MinTemp        143975 non-null  float64\n",
      " 3   MaxTemp        144199 non-null  float64\n",
      " 4   Rainfall       142199 non-null  float64\n",
      " 5   Evaporation    82670 non-null   float64\n",
      " 6   Sunshine       75625 non-null   float64\n",
      " 7   WindGustDir    135134 non-null  object \n",
      " 8   WindGustSpeed  135197 non-null  float64\n",
      " 9   WindDir9am     134894 non-null  object \n",
      " 10  WindDir3pm     141232 non-null  object \n",
      " 11  WindSpeed9am   143693 non-null  float64\n",
      " 12  WindSpeed3pm   142398 non-null  float64\n",
      " 13  Humidity9am    142806 non-null  float64\n",
      " 14  Humidity3pm    140953 non-null  float64\n",
      " 15  Pressure9am    130395 non-null  float64\n",
      " 16  Pressure3pm    130432 non-null  float64\n",
      " 17  Cloud9am       89572 non-null   float64\n",
      " 18  Cloud3pm       86102 non-null   float64\n",
      " 19  Temp9am        143693 non-null  float64\n",
      " 20  Temp3pm        141851 non-null  float64\n",
      " 21  RainToday      142199 non-null  object \n",
      " 22  RainTomorrow   142193 non-null  object \n",
      "dtypes: float64(16), object(7)\n",
      "memory usage: 25.5+ MB\n"
     ]
    }
   ],
   "source": [
    "df.info()"
   ]
  },
  {
   "cell_type": "code",
   "execution_count": 20,
   "id": "19e9db5d-510e-43e5-8889-0f6d4824233a",
   "metadata": {},
   "outputs": [
    {
     "data": {
      "text/plain": [
       "Date                 0\n",
       "Location             0\n",
       "MinTemp           1485\n",
       "MaxTemp           1261\n",
       "Rainfall          3261\n",
       "Evaporation      62790\n",
       "Sunshine         69835\n",
       "WindGustDir      10326\n",
       "WindGustSpeed    10263\n",
       "WindDir9am       10566\n",
       "WindDir3pm        4228\n",
       "WindSpeed9am      1767\n",
       "WindSpeed3pm      3062\n",
       "Humidity9am       2654\n",
       "Humidity3pm       4507\n",
       "Pressure9am      15065\n",
       "Pressure3pm      15028\n",
       "Cloud9am         55888\n",
       "Cloud3pm         59358\n",
       "Temp9am           1767\n",
       "Temp3pm           3609\n",
       "RainToday         3261\n",
       "RainTomorrow      3267\n",
       "dtype: int64"
      ]
     },
     "execution_count": 20,
     "metadata": {},
     "output_type": "execute_result"
    }
   ],
   "source": [
    "df.isnull().sum()"
   ]
  },
  {
   "cell_type": "markdown",
   "id": "28f07ee4-71a3-4ea2-97ef-acd9b2173488",
   "metadata": {},
   "source": [
    " ### Step-by-Step Missing Value Handling (with Explanation)\n",
    "**Assumptions:**\n",
    "Numerical features: median imputation\n",
    "\n",
    "Categorical features: \"Unknown\" label\n",
    "\n",
    "Columns with excessive missingness (Evaporation, Sunshine, Cloud9am, Cloud3pm) can be dropped or handled based on EDA and modeling preference"
   ]
  },
  {
   "cell_type": "code",
   "execution_count": 21,
   "id": "d928a47a-06c5-42aa-b5c8-7a4cd521e740",
   "metadata": {
    "scrolled": true
   },
   "outputs": [
    {
     "data": {
      "text/plain": [
       "Sunshine         69835\n",
       "Evaporation      62790\n",
       "Cloud3pm         59358\n",
       "Cloud9am         55888\n",
       "Pressure9am      15065\n",
       "Pressure3pm      15028\n",
       "WindDir9am       10566\n",
       "WindGustDir      10326\n",
       "WindGustSpeed    10263\n",
       "Humidity3pm       4507\n",
       "WindDir3pm        4228\n",
       "Temp3pm           3609\n",
       "RainTomorrow      3267\n",
       "Rainfall          3261\n",
       "RainToday         3261\n",
       "WindSpeed3pm      3062\n",
       "Humidity9am       2654\n",
       "WindSpeed9am      1767\n",
       "Temp9am           1767\n",
       "MinTemp           1485\n",
       "MaxTemp           1261\n",
       "Date                 0\n",
       "Location             0\n",
       "dtype: int64"
      ]
     },
     "execution_count": 21,
     "metadata": {},
     "output_type": "execute_result"
    }
   ],
   "source": [
    "df.isnull().sum().sort_values(ascending=False)"
   ]
  },
  {
   "cell_type": "code",
   "execution_count": 22,
   "id": "3cbb3fc8-ec3c-4940-8c5c-cfc9a8131932",
   "metadata": {},
   "outputs": [],
   "source": [
    "# Drop high-missing-value columns (optional based on project goal)\n",
    "high_missing_cols = ['Evaporation', 'Sunshine', 'Cloud9am', 'Cloud3pm']\n",
    "df.drop(columns=high_missing_cols, inplace=True)\n"
   ]
  },
  {
   "cell_type": "code",
   "execution_count": 23,
   "id": "cc6fef2a-a52b-4d08-baf8-991cfb869886",
   "metadata": {},
   "outputs": [],
   "source": [
    "# Identify column types\n",
    "cat_cols = df.select_dtypes(include='object').columns.tolist()\n",
    "num_cols = df.select_dtypes(include=['float64', 'int64']).columns.tolist()\n",
    "\n",
    "# Exclude target from preprocessing\n",
    "target_col = 'RainTomorrow'\n",
    "cat_cols.remove(target_col)\n"
   ]
  },
  {
   "cell_type": "code",
   "execution_count": 25,
   "id": "f2f0f2ee-d46c-45a2-91a1-8705ed417c2f",
   "metadata": {},
   "outputs": [],
   "source": [
    "# Impute missing values\n",
    "\n",
    "# 1. Categorical - fill with 'Unknown'\n",
    "df[cat_cols] = df[cat_cols].fillna('Unknown')\n",
    "\n",
    "# 2. Numerical - fill with median\n",
    "for col in num_cols:\n",
    "    df[col] = df[col].fillna(df[col].median())\n"
   ]
  },
  {
   "cell_type": "code",
   "execution_count": 26,
   "id": "b4c1b7b2-aaa4-4d04-87c1-f7bebee3e95b",
   "metadata": {},
   "outputs": [
    {
     "data": {
      "text/plain": [
       "RainTomorrow     3267\n",
       "Location            0\n",
       "Date                0\n",
       "MinTemp             0\n",
       "MaxTemp             0\n",
       "WindGustDir         0\n",
       "Rainfall            0\n",
       "WindDir9am          0\n",
       "WindDir3pm          0\n",
       "WindSpeed9am        0\n",
       "WindGustSpeed       0\n",
       "WindSpeed3pm        0\n",
       "Humidity9am         0\n",
       "Pressure9am         0\n",
       "Humidity3pm         0\n",
       "Pressure3pm         0\n",
       "Temp9am             0\n",
       "Temp3pm             0\n",
       "RainToday           0\n",
       "dtype: int64"
      ]
     },
     "execution_count": 26,
     "metadata": {},
     "output_type": "execute_result"
    }
   ],
   "source": [
    "# Check missing values again\n",
    "df.isnull().sum().sort_values(ascending=False)\n"
   ]
  },
  {
   "cell_type": "code",
   "execution_count": 27,
   "id": "d6b4152a-9e43-42a6-ac3c-84b74d9ef346",
   "metadata": {
    "scrolled": true
   },
   "outputs": [
    {
     "name": "stdout",
     "output_type": "stream",
     "text": [
      "✅ Final shape: (142193, 19)\n",
      "✅ Missing values:\n",
      " 0\n"
     ]
    }
   ],
   "source": [
    "# Cell 6: Drop rows with target label missing\n",
    "df.dropna(subset=['RainTomorrow'], inplace=True)\n",
    "\n",
    "# Confirm clean dataset\n",
    "print(\"✅ Final shape:\", df.shape)\n",
    "print(\"✅ Missing values:\\n\", df.isnull().sum().sum())\n"
   ]
  },
  {
   "cell_type": "code",
   "execution_count": 35,
   "id": "06742a6c-1bb3-41fa-8610-1b6e41634a08",
   "metadata": {},
   "outputs": [],
   "source": [
    "# Cell 2: Load dataset\n",
    "data = pd.read_csv(\"weatherAUS.csv\")"
   ]
  },
  {
   "cell_type": "code",
   "execution_count": 36,
   "id": "6bd854e7-aeeb-40e9-b1b8-9007857ff64d",
   "metadata": {},
   "outputs": [],
   "source": [
    "# Cell 3: Handle missing values\n",
    "# Drop columns with more than 50% missing values\n",
    "threshold = 0.5\n",
    "missing_ratio = data.isnull().mean()\n",
    "data = data.drop(columns=missing_ratio[missing_ratio > threshold].index)\n",
    "\n",
    "# Fill numerical columns with median and categorical with mode\n",
    "for col in data.columns:\n",
    "    if data[col].dtype in [\"float64\", \"int64\"]:\n",
    "        data[col] = data[col].fillna(data[col].median())\n",
    "    elif data[col].dtype == \"object\":\n",
    "        data[col] = data[col].fillna(data[col].mode()[0])"
   ]
  },
  {
   "cell_type": "code",
   "execution_count": 37,
   "id": "4c1ddc0d-0586-4f0d-b4c0-28ecfff4d896",
   "metadata": {},
   "outputs": [],
   "source": [
    "# Cell 4: Encode categorical features\n",
    "label_encoders = {}\n",
    "for col in data.select_dtypes(include=[\"object\"]).columns:\n",
    "    le = LabelEncoder()\n",
    "    data[col] = le.fit_transform(data[col])\n",
    "    label_encoders[col] = le"
   ]
  },
  {
   "cell_type": "code",
   "execution_count": 38,
   "id": "6c090adb-0a3a-4a38-ab5a-21b3a5b4f4de",
   "metadata": {},
   "outputs": [],
   "source": [
    "# Cell 5: Define features and target\n",
    "X = data.drop(columns=[\"RainTomorrow\", \"Date\"])\n",
    "y = data[\"RainTomorrow\"]"
   ]
  },
  {
   "cell_type": "code",
   "execution_count": 39,
   "id": "90f0e4b4-aa73-422e-b3c8-40f6731472db",
   "metadata": {},
   "outputs": [],
   "source": [
    "# Cell 6: Train-test split\n",
    "X_train, X_test, y_train, y_test = train_test_split(X, y, test_size=0.2, random_state=42)"
   ]
  },
  {
   "cell_type": "code",
   "execution_count": 33,
   "id": "a01ef6f9-7b3a-4b6c-a166-4e7d4d536f29",
   "metadata": {},
   "outputs": [],
   "source": [
    "# # Cell 7: Define Optuna objective function\n",
    "# def objective(trial):\n",
    "#     params = {\n",
    "#         \"objective\": \"binary\",\n",
    "#         \"metric\": \"auc\",\n",
    "#         \"boosting_type\": \"gbdt\",\n",
    "#         \"learning_rate\": trial.suggest_float(\"learning_rate\", 0.01, 0.2),\n",
    "#         \"num_leaves\": trial.suggest_int(\"num_leaves\", 20, 150),\n",
    "#         \"max_depth\": trial.suggest_int(\"max_depth\", 3, 15),\n",
    "#         \"min_child_samples\": trial.suggest_int(\"min_child_samples\", 10, 100),\n",
    "#         \"feature_fraction\": trial.suggest_float(\"feature_fraction\", 0.5, 1.0),\n",
    "#         \"bagging_fraction\": trial.suggest_float(\"bagging_fraction\", 0.5, 1.0),\n",
    "#         \"scale_pos_weight\": trial.suggest_float(\"scale_pos_weight\", 1.0, 10.0)\n",
    "#     }\n",
    "\n",
    "#     train_set = lgb.Dataset(X_train, label=y_train)\n",
    "#     valid_set = lgb.Dataset(X_test, label=y_test, reference=train_set)\n",
    "# # \n",
    "#     model = lgb.train(\n",
    "#         params,\n",
    "#         train_set,\n",
    "#         valid_sets=[valid_set],\n",
    "#         num_boost_round=200,\n",
    "#         early_stopping_rounds=20,\n",
    "#         verbose_eval=False\n",
    "#     )\n",
    "\n",
    "#     preds = model.predict(X_test)\n",
    "#     return roc_auc_score(y_test, preds)\n"
   ]
  },
  {
   "cell_type": "code",
   "execution_count": 55,
   "id": "76a35def-8eba-43db-a54a-909b95f37be8",
   "metadata": {},
   "outputs": [],
   "source": [
    "def objective(trial):\n",
    "    params = {\n",
    "        'learning_rate': trial.suggest_float('learning_rate', 0.01, 0.2),\n",
    "        'num_leaves': trial.suggest_int('num_leaves', 20, 150),\n",
    "        'max_depth': trial.suggest_int('max_depth', 3, 15),\n",
    "        'min_child_samples': trial.suggest_int('min_child_samples', 10, 100),\n",
    "        'feature_fraction': trial.suggest_float('feature_fraction', 0.5, 1.0),\n",
    "        'bagging_fraction': trial.suggest_float('bagging_fraction', 0.5, 1.0),\n",
    "        'scale_pos_weight': trial.suggest_float('scale_pos_weight', 1.0, 10.0),\n",
    "        'objective': 'binary',\n",
    "        'boosting_type': 'gbdt',\n",
    "        'verbosity': -1,\n",
    "        'n_jobs': -1\n",
    "    }\n",
    "\n",
    "    model = lgb.LGBMClassifier(**params)\n",
    "\n",
    "    from lightgbm import early_stopping\n",
    "\n",
    "    model.fit(\n",
    "        X_train, y_train,\n",
    "        eval_set=[(X_test, y_test)],\n",
    "        eval_metric='auc',\n",
    "        callbacks=[early_stopping(stopping_rounds=20)],\n",
    "    )\n",
    "\n",
    "    preds = model.predict_proba(X_test)[:, 1]\n",
    "    return roc_auc_score(y_test, preds)\n"
   ]
  },
  {
   "cell_type": "code",
   "execution_count": 56,
   "id": "c8b247c6-fc9e-4c48-b6f2-0705ffef68e3",
   "metadata": {},
   "outputs": [
    {
     "name": "stderr",
     "output_type": "stream",
     "text": [
      "[I 2025-06-28 14:32:59,871] A new study created in memory with name: no-name-e2e91e7b-3520-464e-ba81-fd480fffa733\n"
     ]
    },
    {
     "name": "stdout",
     "output_type": "stream",
     "text": [
      "Training until validation scores don't improve for 20 rounds\n"
     ]
    },
    {
     "name": "stderr",
     "output_type": "stream",
     "text": [
      "[I 2025-06-28 14:33:02,997] Trial 0 finished with value: 0.863422556429823 and parameters: {'learning_rate': 0.10707190082652261, 'num_leaves': 146, 'max_depth': 8, 'min_child_samples': 10, 'feature_fraction': 0.8169442622301717, 'bagging_fraction': 0.6381726025586281, 'scale_pos_weight': 7.361953218356355}. Best is trial 0 with value: 0.863422556429823.\n"
     ]
    },
    {
     "name": "stdout",
     "output_type": "stream",
     "text": [
      "Early stopping, best iteration is:\n",
      "[5]\tvalid_0's auc: 0.863423\tvalid_0's binary_logloss: 0.472047\n",
      "Training until validation scores don't improve for 20 rounds\n"
     ]
    },
    {
     "name": "stderr",
     "output_type": "stream",
     "text": [
      "[I 2025-06-28 14:33:06,289] Trial 1 finished with value: 0.8699151841952526 and parameters: {'learning_rate': 0.1085019167073011, 'num_leaves': 121, 'max_depth': 9, 'min_child_samples': 87, 'feature_fraction': 0.9652996540121415, 'bagging_fraction': 0.6337189414916309, 'scale_pos_weight': 3.9969872877992585}. Best is trial 1 with value: 0.8699151841952526.\n"
     ]
    },
    {
     "name": "stdout",
     "output_type": "stream",
     "text": [
      "Early stopping, best iteration is:\n",
      "[10]\tvalid_0's auc: 0.869915\tvalid_0's binary_logloss: 0.428435\n",
      "Training until validation scores don't improve for 20 rounds\n"
     ]
    },
    {
     "name": "stderr",
     "output_type": "stream",
     "text": [
      "[I 2025-06-28 14:33:07,622] Trial 2 finished with value: 0.8493328638176394 and parameters: {'learning_rate': 0.13239150973334574, 'num_leaves': 99, 'max_depth': 5, 'min_child_samples': 25, 'feature_fraction': 0.9137653274948963, 'bagging_fraction': 0.7251959523428637, 'scale_pos_weight': 7.428462754006126}. Best is trial 1 with value: 0.8699151841952526.\n"
     ]
    },
    {
     "name": "stdout",
     "output_type": "stream",
     "text": [
      "Early stopping, best iteration is:\n",
      "[3]\tvalid_0's auc: 0.849333\tvalid_0's binary_logloss: 0.482764\n",
      "Training until validation scores don't improve for 20 rounds\n"
     ]
    },
    {
     "name": "stderr",
     "output_type": "stream",
     "text": [
      "[I 2025-06-28 14:33:13,615] Trial 3 finished with value: 0.8891973397683228 and parameters: {'learning_rate': 0.1611844934007947, 'num_leaves': 48, 'max_depth': 14, 'min_child_samples': 94, 'feature_fraction': 0.7040368964233419, 'bagging_fraction': 0.6787182358178484, 'scale_pos_weight': 3.1571473279178637}. Best is trial 3 with value: 0.8891973397683228.\n"
     ]
    },
    {
     "name": "stdout",
     "output_type": "stream",
     "text": [
      "Did not meet early stopping. Best iteration is:\n",
      "[100]\tvalid_0's auc: 0.889197\tvalid_0's binary_logloss: 0.390513\n",
      "Training until validation scores don't improve for 20 rounds\n"
     ]
    },
    {
     "name": "stderr",
     "output_type": "stream",
     "text": [
      "[I 2025-06-28 14:33:14,989] Trial 4 finished with value: 0.8405073565703068 and parameters: {'learning_rate': 0.1264695192520485, 'num_leaves': 97, 'max_depth': 5, 'min_child_samples': 36, 'feature_fraction': 0.5270664851938651, 'bagging_fraction': 0.569712161718775, 'scale_pos_weight': 5.786278933855647}. Best is trial 3 with value: 0.8891973397683228.\n"
     ]
    },
    {
     "name": "stdout",
     "output_type": "stream",
     "text": [
      "Early stopping, best iteration is:\n",
      "[3]\tvalid_0's auc: 0.840507\tvalid_0's binary_logloss: 0.487169\n",
      "Training until validation scores don't improve for 20 rounds\n"
     ]
    },
    {
     "name": "stderr",
     "output_type": "stream",
     "text": [
      "[I 2025-06-28 14:33:15,798] Trial 5 finished with value: 0.8213062463862268 and parameters: {'learning_rate': 0.14511470816882216, 'num_leaves': 114, 'max_depth': 3, 'min_child_samples': 32, 'feature_fraction': 0.697363520903822, 'bagging_fraction': 0.8143440434965179, 'scale_pos_weight': 6.675305429681064}. Best is trial 3 with value: 0.8891973397683228.\n"
     ]
    },
    {
     "name": "stdout",
     "output_type": "stream",
     "text": [
      "Early stopping, best iteration is:\n",
      "[2]\tvalid_0's auc: 0.821306\tvalid_0's binary_logloss: 0.492836\n",
      "Training until validation scores don't improve for 20 rounds\n"
     ]
    },
    {
     "name": "stderr",
     "output_type": "stream",
     "text": [
      "[I 2025-06-28 14:33:17,968] Trial 6 finished with value: 0.8550856161936607 and parameters: {'learning_rate': 0.12473721014937804, 'num_leaves': 62, 'max_depth': 12, 'min_child_samples': 73, 'feature_fraction': 0.8188301196419014, 'bagging_fraction': 0.5327815848665409, 'scale_pos_weight': 8.437164450160035}. Best is trial 3 with value: 0.8891973397683228.\n"
     ]
    },
    {
     "name": "stdout",
     "output_type": "stream",
     "text": [
      "Early stopping, best iteration is:\n",
      "[3]\tvalid_0's auc: 0.855086\tvalid_0's binary_logloss: 0.480281\n",
      "Training until validation scores don't improve for 20 rounds\n"
     ]
    },
    {
     "name": "stderr",
     "output_type": "stream",
     "text": [
      "[I 2025-06-28 14:33:18,969] Trial 7 finished with value: 0.8396330708057697 and parameters: {'learning_rate': 0.0685426509750403, 'num_leaves': 101, 'max_depth': 3, 'min_child_samples': 97, 'feature_fraction': 0.8293974455124926, 'bagging_fraction': 0.6378751922510266, 'scale_pos_weight': 7.154614870762839}. Best is trial 3 with value: 0.8891973397683228.\n"
     ]
    },
    {
     "name": "stdout",
     "output_type": "stream",
     "text": [
      "Early stopping, best iteration is:\n",
      "[5]\tvalid_0's auc: 0.839633\tvalid_0's binary_logloss: 0.495129\n",
      "Training until validation scores don't improve for 20 rounds\n"
     ]
    },
    {
     "name": "stderr",
     "output_type": "stream",
     "text": [
      "[I 2025-06-28 14:33:21,000] Trial 8 finished with value: 0.8544015275680049 and parameters: {'learning_rate': 0.08266965603421561, 'num_leaves': 54, 'max_depth': 14, 'min_child_samples': 76, 'feature_fraction': 0.7765152460833968, 'bagging_fraction': 0.992321209662032, 'scale_pos_weight': 9.391314552201152}. Best is trial 3 with value: 0.8891973397683228.\n"
     ]
    },
    {
     "name": "stdout",
     "output_type": "stream",
     "text": [
      "Early stopping, best iteration is:\n",
      "[3]\tvalid_0's auc: 0.854402\tvalid_0's binary_logloss: 0.489186\n",
      "Training until validation scores don't improve for 20 rounds\n"
     ]
    },
    {
     "name": "stderr",
     "output_type": "stream",
     "text": [
      "[I 2025-06-28 14:33:23,327] Trial 9 finished with value: 0.8553723821442782 and parameters: {'learning_rate': 0.09111128527402557, 'num_leaves': 71, 'max_depth': 9, 'min_child_samples': 38, 'feature_fraction': 0.7733120174430362, 'bagging_fraction': 0.9585760820513769, 'scale_pos_weight': 9.41837606099125}. Best is trial 3 with value: 0.8891973397683228.\n"
     ]
    },
    {
     "name": "stdout",
     "output_type": "stream",
     "text": [
      "Early stopping, best iteration is:\n",
      "[3]\tvalid_0's auc: 0.855372\tvalid_0's binary_logloss: 0.4873\n",
      "Training until validation scores don't improve for 20 rounds\n"
     ]
    },
    {
     "name": "stderr",
     "output_type": "stream",
     "text": [
      "[I 2025-06-28 14:33:27,825] Trial 10 finished with value: 0.8861823468694556 and parameters: {'learning_rate': 0.19892006987362834, 'num_leaves': 28, 'max_depth': 14, 'min_child_samples': 60, 'feature_fraction': 0.6352226849513223, 'bagging_fraction': 0.8220071580770894, 'scale_pos_weight': 1.38202742108895}. Best is trial 3 with value: 0.8891973397683228.\n"
     ]
    },
    {
     "name": "stdout",
     "output_type": "stream",
     "text": [
      "Did not meet early stopping. Best iteration is:\n",
      "[100]\tvalid_0's auc: 0.886182\tvalid_0's binary_logloss: 0.335936\n",
      "Training until validation scores don't improve for 20 rounds\n"
     ]
    },
    {
     "name": "stderr",
     "output_type": "stream",
     "text": [
      "[I 2025-06-28 14:33:31,557] Trial 11 finished with value: 0.885700279153668 and parameters: {'learning_rate': 0.19727938960541352, 'num_leaves': 20, 'max_depth': 15, 'min_child_samples': 57, 'feature_fraction': 0.622119861938744, 'bagging_fraction': 0.8308886781362683, 'scale_pos_weight': 1.472303871520078}. Best is trial 3 with value: 0.8891973397683228.\n"
     ]
    },
    {
     "name": "stdout",
     "output_type": "stream",
     "text": [
      "Did not meet early stopping. Best iteration is:\n",
      "[100]\tvalid_0's auc: 0.8857\tvalid_0's binary_logloss: 0.339452\n",
      "Training until validation scores don't improve for 20 rounds\n"
     ]
    },
    {
     "name": "stderr",
     "output_type": "stream",
     "text": [
      "[I 2025-06-28 14:33:35,949] Trial 12 finished with value: 0.8874797017249377 and parameters: {'learning_rate': 0.18982318347943797, 'num_leaves': 28, 'max_depth': 12, 'min_child_samples': 59, 'feature_fraction': 0.650433157152056, 'bagging_fraction': 0.7577714261312842, 'scale_pos_weight': 1.156517958511488}. Best is trial 3 with value: 0.8891973397683228.\n"
     ]
    },
    {
     "name": "stdout",
     "output_type": "stream",
     "text": [
      "Did not meet early stopping. Best iteration is:\n",
      "[100]\tvalid_0's auc: 0.88748\tvalid_0's binary_logloss: 0.331105\n",
      "Training until validation scores don't improve for 20 rounds\n",
      "Did not meet early stopping. Best iteration is:\n",
      "[100]\tvalid_0's auc: 0.866484\tvalid_0's binary_logloss: 0.423204\n"
     ]
    },
    {
     "name": "stderr",
     "output_type": "stream",
     "text": [
      "[I 2025-06-28 14:33:42,055] Trial 13 finished with value: 0.8664843497516802 and parameters: {'learning_rate': 0.010736213127944608, 'num_leaves': 42, 'max_depth': 12, 'min_child_samples': 96, 'feature_fraction': 0.6710496638252268, 'bagging_fraction': 0.7230583723817373, 'scale_pos_weight': 3.013485443349028}. Best is trial 3 with value: 0.8891973397683228.\n"
     ]
    },
    {
     "name": "stdout",
     "output_type": "stream",
     "text": [
      "Training until validation scores don't improve for 20 rounds\n"
     ]
    },
    {
     "name": "stderr",
     "output_type": "stream",
     "text": [
      "[I 2025-06-28 14:33:47,419] Trial 14 finished with value: 0.8886182085798394 and parameters: {'learning_rate': 0.16272997661695437, 'num_leaves': 42, 'max_depth': 12, 'min_child_samples': 70, 'feature_fraction': 0.5603076933351381, 'bagging_fraction': 0.7603371936368378, 'scale_pos_weight': 3.263589621072173}. Best is trial 3 with value: 0.8891973397683228.\n"
     ]
    },
    {
     "name": "stdout",
     "output_type": "stream",
     "text": [
      "Did not meet early stopping. Best iteration is:\n",
      "[99]\tvalid_0's auc: 0.888618\tvalid_0's binary_logloss: 0.3967\n",
      "Training until validation scores don't improve for 20 rounds\n",
      "Did not meet early stopping. Best iteration is:\n",
      "[100]\tvalid_0's auc: 0.890013\tvalid_0's binary_logloss: 0.408209\n"
     ]
    },
    {
     "name": "stderr",
     "output_type": "stream",
     "text": [
      "[I 2025-06-28 14:33:55,435] Trial 15 finished with value: 0.8900129463765535 and parameters: {'learning_rate': 0.1635919068221266, 'num_leaves': 76, 'max_depth': 11, 'min_child_samples': 75, 'feature_fraction': 0.509490121303958, 'bagging_fraction': 0.9229223505765949, 'scale_pos_weight': 3.902439959494064}. Best is trial 15 with value: 0.8900129463765535.\n"
     ]
    },
    {
     "name": "stdout",
     "output_type": "stream",
     "text": [
      "Training until validation scores don't improve for 20 rounds\n"
     ]
    },
    {
     "name": "stderr",
     "output_type": "stream",
     "text": [
      "[I 2025-06-28 14:33:58,116] Trial 16 finished with value: 0.8613597652668861 and parameters: {'learning_rate': 0.1680564614924501, 'num_leaves': 78, 'max_depth': 10, 'min_child_samples': 82, 'feature_fraction': 0.5667577984272791, 'bagging_fraction': 0.9412561123341618, 'scale_pos_weight': 4.39584598008094}. Best is trial 15 with value: 0.8900129463765535.\n"
     ]
    },
    {
     "name": "stdout",
     "output_type": "stream",
     "text": [
      "Early stopping, best iteration is:\n",
      "[6]\tvalid_0's auc: 0.86136\tvalid_0's binary_logloss: 0.458647\n",
      "Training until validation scores don't improve for 20 rounds\n"
     ]
    },
    {
     "name": "stderr",
     "output_type": "stream",
     "text": [
      "[I 2025-06-28 14:34:00,215] Trial 17 finished with value: 0.846504052372504 and parameters: {'learning_rate': 0.16482770041262224, 'num_leaves': 53, 'max_depth': 15, 'min_child_samples': 88, 'feature_fraction': 0.5164856111271185, 'bagging_fraction': 0.8882228280686002, 'scale_pos_weight': 5.0878428139170015}. Best is trial 15 with value: 0.8900129463765535.\n"
     ]
    },
    {
     "name": "stdout",
     "output_type": "stream",
     "text": [
      "Early stopping, best iteration is:\n",
      "[3]\tvalid_0's auc: 0.846504\tvalid_0's binary_logloss: 0.47352\n",
      "Training until validation scores don't improve for 20 rounds\n",
      "Did not meet early stopping. Best iteration is:\n",
      "[100]\tvalid_0's auc: 0.878637\tvalid_0's binary_logloss: 0.383976\n"
     ]
    },
    {
     "name": "stderr",
     "output_type": "stream",
     "text": [
      "[I 2025-06-28 14:34:08,892] Trial 18 finished with value: 0.8786373279129484 and parameters: {'learning_rate': 0.02710736559338732, 'num_leaves': 84, 'max_depth': 11, 'min_child_samples': 69, 'feature_fraction': 0.7212618876990106, 'bagging_fraction': 0.8914816109330526, 'scale_pos_weight': 2.4306499087785807}. Best is trial 15 with value: 0.8900129463765535.\n"
     ]
    },
    {
     "name": "stdout",
     "output_type": "stream",
     "text": [
      "Training until validation scores don't improve for 20 rounds\n",
      "Did not meet early stopping. Best iteration is:\n",
      "[100]\tvalid_0's auc: 0.888002\tvalid_0's binary_logloss: 0.363956\n"
     ]
    },
    {
     "name": "stderr",
     "output_type": "stream",
     "text": [
      "[I 2025-06-28 14:34:15,002] Trial 19 finished with value: 0.8880017201834862 and parameters: {'learning_rate': 0.1485426604988411, 'num_leaves': 68, 'max_depth': 7, 'min_child_samples': 96, 'feature_fraction': 0.5951433537830183, 'bagging_fraction': 0.6581741402687405, 'scale_pos_weight': 2.3846199169004962}. Best is trial 15 with value: 0.8900129463765535.\n"
     ]
    },
    {
     "name": "stdout",
     "output_type": "stream",
     "text": [
      "Training until validation scores don't improve for 20 rounds\n"
     ]
    },
    {
     "name": "stderr",
     "output_type": "stream",
     "text": [
      "[I 2025-06-28 14:34:17,596] Trial 20 finished with value: 0.8604868054685317 and parameters: {'learning_rate': 0.05972833239818373, 'num_leaves': 46, 'max_depth': 13, 'min_child_samples': 51, 'feature_fraction': 0.8997475024934161, 'bagging_fraction': 0.5026356992309531, 'scale_pos_weight': 5.367329637007633}. Best is trial 15 with value: 0.8900129463765535.\n"
     ]
    },
    {
     "name": "stdout",
     "output_type": "stream",
     "text": [
      "Early stopping, best iteration is:\n",
      "[11]\tvalid_0's auc: 0.860487\tvalid_0's binary_logloss: 0.457905\n",
      "Training until validation scores don't improve for 20 rounds\n"
     ]
    },
    {
     "name": "stderr",
     "output_type": "stream",
     "text": [
      "[I 2025-06-28 14:34:22,635] Trial 21 finished with value: 0.8876324695178925 and parameters: {'learning_rate': 0.1738551041490598, 'num_leaves': 38, 'max_depth': 11, 'min_child_samples': 68, 'feature_fraction': 0.5704061394179, 'bagging_fraction': 0.7686423532397985, 'scale_pos_weight': 3.613499076956004}. Best is trial 15 with value: 0.8900129463765535.\n"
     ]
    },
    {
     "name": "stdout",
     "output_type": "stream",
     "text": [
      "Did not meet early stopping. Best iteration is:\n",
      "[98]\tvalid_0's auc: 0.887632\tvalid_0's binary_logloss: 0.411765\n",
      "Training until validation scores don't improve for 20 rounds\n"
     ]
    },
    {
     "name": "stderr",
     "output_type": "stream",
     "text": [
      "[I 2025-06-28 14:34:29,692] Trial 22 finished with value: 0.8896671508847835 and parameters: {'learning_rate': 0.1524518982003396, 'num_leaves': 59, 'max_depth': 13, 'min_child_samples': 82, 'feature_fraction': 0.5298346738597237, 'bagging_fraction': 0.6957990387178639, 'scale_pos_weight': 3.14898011992209}. Best is trial 15 with value: 0.8900129463765535.\n"
     ]
    },
    {
     "name": "stdout",
     "output_type": "stream",
     "text": [
      "Did not meet early stopping. Best iteration is:\n",
      "[98]\tvalid_0's auc: 0.889667\tvalid_0's binary_logloss: 0.3883\n",
      "Training until validation scores don't improve for 20 rounds\n"
     ]
    },
    {
     "name": "stderr",
     "output_type": "stream",
     "text": [
      "[I 2025-06-28 14:34:31,926] Trial 23 finished with value: 0.8488446712373339 and parameters: {'learning_rate': 0.1803877226639593, 'num_leaves': 61, 'max_depth': 14, 'min_child_samples': 83, 'feature_fraction': 0.5036036995954832, 'bagging_fraction': 0.6866554602636266, 'scale_pos_weight': 4.621503275851296}. Best is trial 15 with value: 0.8900129463765535.\n"
     ]
    },
    {
     "name": "stdout",
     "output_type": "stream",
     "text": [
      "Early stopping, best iteration is:\n",
      "[3]\tvalid_0's auc: 0.848845\tvalid_0's binary_logloss: 0.466848\n",
      "Training until validation scores don't improve for 20 rounds\n",
      "Did not meet early stopping. Best iteration is:\n",
      "[100]\tvalid_0's auc: 0.890453\tvalid_0's binary_logloss: 0.357685\n"
     ]
    },
    {
     "name": "stderr",
     "output_type": "stream",
     "text": [
      "[I 2025-06-28 14:34:39,769] Trial 24 finished with value: 0.8904525900447833 and parameters: {'learning_rate': 0.14276678080102123, 'num_leaves': 77, 'max_depth': 13, 'min_child_samples': 100, 'feature_fraction': 0.5965120919895215, 'bagging_fraction': 0.585180700372796, 'scale_pos_weight': 2.3657556868499405}. Best is trial 24 with value: 0.8904525900447833.\n"
     ]
    },
    {
     "name": "stdout",
     "output_type": "stream",
     "text": [
      "Training until validation scores don't improve for 20 rounds\n",
      "Did not meet early stopping. Best iteration is:\n",
      "[97]\tvalid_0's auc: 0.890609\tvalid_0's binary_logloss: 0.353415\n"
     ]
    },
    {
     "name": "stderr",
     "output_type": "stream",
     "text": [
      "[I 2025-06-28 14:34:48,460] Trial 25 finished with value: 0.8906092052007555 and parameters: {'learning_rate': 0.14905335882882467, 'num_leaves': 87, 'max_depth': 10, 'min_child_samples': 78, 'feature_fraction': 0.5411754007117621, 'bagging_fraction': 0.5987392549208206, 'scale_pos_weight': 2.239021898500863}. Best is trial 25 with value: 0.8906092052007555.\n"
     ]
    },
    {
     "name": "stdout",
     "output_type": "stream",
     "text": [
      "Training until validation scores don't improve for 20 rounds\n"
     ]
    },
    {
     "name": "stderr",
     "output_type": "stream",
     "text": [
      "[I 2025-06-28 14:34:55,208] Trial 26 finished with value: 0.8892009501062973 and parameters: {'learning_rate': 0.13935973039884642, 'num_leaves': 87, 'max_depth': 7, 'min_child_samples': 49, 'feature_fraction': 0.6007973916250026, 'bagging_fraction': 0.5882187884166529, 'scale_pos_weight': 2.1838462070966562}. Best is trial 25 with value: 0.8906092052007555.\n"
     ]
    },
    {
     "name": "stdout",
     "output_type": "stream",
     "text": [
      "Did not meet early stopping. Best iteration is:\n",
      "[100]\tvalid_0's auc: 0.889201\tvalid_0's binary_logloss: 0.354814\n",
      "Training until validation scores don't improve for 20 rounds\n",
      "Did not meet early stopping. Best iteration is:\n",
      "[100]\tvalid_0's auc: 0.891242\tvalid_0's binary_logloss: 0.350483\n"
     ]
    },
    {
     "name": "stderr",
     "output_type": "stream",
     "text": [
      "[I 2025-06-28 14:35:05,802] Trial 27 finished with value: 0.8912415845804287 and parameters: {'learning_rate': 0.12135248320669911, 'num_leaves': 114, 'max_depth': 11, 'min_child_samples': 100, 'feature_fraction': 0.5512734781909172, 'bagging_fraction': 0.5929453470563474, 'scale_pos_weight': 2.19693154497164}. Best is trial 27 with value: 0.8912415845804287.\n"
     ]
    },
    {
     "name": "stdout",
     "output_type": "stream",
     "text": [
      "Training until validation scores don't improve for 20 rounds\n",
      "Did not meet early stopping. Best iteration is:\n",
      "[100]\tvalid_0's auc: 0.89\tvalid_0's binary_logloss: 0.345905\n"
     ]
    },
    {
     "name": "stderr",
     "output_type": "stream",
     "text": [
      "[I 2025-06-28 14:35:16,470] Trial 28 finished with value: 0.8900000954970463 and parameters: {'learning_rate': 0.11519742515511108, 'num_leaves': 122, 'max_depth': 10, 'min_child_samples': 100, 'feature_fraction': 0.5814770200938921, 'bagging_fraction': 0.5883983892534091, 'scale_pos_weight': 1.9929557030222549}. Best is trial 27 with value: 0.8912415845804287.\n"
     ]
    },
    {
     "name": "stdout",
     "output_type": "stream",
     "text": [
      "Training until validation scores don't improve for 20 rounds\n",
      "Did not meet early stopping. Best iteration is:\n",
      "[99]\tvalid_0's auc: 0.889637\tvalid_0's binary_logloss: 0.341867\n"
     ]
    },
    {
     "name": "stderr",
     "output_type": "stream",
     "text": [
      "[I 2025-06-28 14:35:25,810] Trial 29 finished with value: 0.8896368872524771 and parameters: {'learning_rate': 0.11646464259617707, 'num_leaves': 148, 'max_depth': 8, 'min_child_samples': 90, 'feature_fraction': 0.6653445326256823, 'bagging_fraction': 0.5600956015733292, 'scale_pos_weight': 1.8060127540400965}. Best is trial 27 with value: 0.8912415845804287.\n"
     ]
    },
    {
     "name": "stdout",
     "output_type": "stream",
     "text": [
      "Training until validation scores don't improve for 20 rounds\n",
      "Did not meet early stopping. Best iteration is:\n",
      "[100]\tvalid_0's auc: 0.890118\tvalid_0's binary_logloss: 0.366789\n"
     ]
    },
    {
     "name": "stderr",
     "output_type": "stream",
     "text": [
      "[I 2025-06-28 14:35:37,778] Trial 30 finished with value: 0.8901178797677072 and parameters: {'learning_rate': 0.09498314741486873, 'num_leaves': 136, 'max_depth': 10, 'min_child_samples': 91, 'feature_fraction': 0.5462934992063248, 'bagging_fraction': 0.6102898461893632, 'scale_pos_weight': 2.610225733449522}. Best is trial 27 with value: 0.8912415845804287.\n"
     ]
    },
    {
     "name": "stdout",
     "output_type": "stream",
     "text": [
      "Training until validation scores don't improve for 20 rounds\n",
      "Did not meet early stopping. Best iteration is:\n",
      "[100]\tvalid_0's auc: 0.890811\tvalid_0's binary_logloss: 0.363306\n"
     ]
    },
    {
     "name": "stderr",
     "output_type": "stream",
     "text": [
      "[I 2025-06-28 14:35:49,437] Trial 31 finished with value: 0.8908106936630632 and parameters: {'learning_rate': 0.09959038778684948, 'num_leaves': 136, 'max_depth': 10, 'min_child_samples': 100, 'feature_fraction': 0.5484532541027043, 'bagging_fraction': 0.6159721380749618, 'scale_pos_weight': 2.5716666025912143}. Best is trial 27 with value: 0.8912415845804287.\n"
     ]
    },
    {
     "name": "stdout",
     "output_type": "stream",
     "text": [
      "Training until validation scores don't improve for 20 rounds\n",
      "Did not meet early stopping. Best iteration is:\n",
      "[100]\tvalid_0's auc: 0.890375\tvalid_0's binary_logloss: 0.326277\n"
     ]
    },
    {
     "name": "stderr",
     "output_type": "stream",
     "text": [
      "[I 2025-06-28 14:36:01,286] Trial 32 finished with value: 0.8903747118599911 and parameters: {'learning_rate': 0.10316844717221674, 'num_leaves': 138, 'max_depth': 9, 'min_child_samples': 10, 'feature_fraction': 0.6127864696771745, 'bagging_fraction': 0.5392022018037033, 'scale_pos_weight': 1.0368716291376763}. Best is trial 27 with value: 0.8912415845804287.\n"
     ]
    },
    {
     "name": "stdout",
     "output_type": "stream",
     "text": [
      "Training until validation scores don't improve for 20 rounds\n",
      "Did not meet early stopping. Best iteration is:\n",
      "[100]\tvalid_0's auc: 0.889686\tvalid_0's binary_logloss: 0.343552\n"
     ]
    },
    {
     "name": "stderr",
     "output_type": "stream",
     "text": [
      "[I 2025-06-28 14:36:10,179] Trial 33 finished with value: 0.8896862743400673 and parameters: {'learning_rate': 0.13432678378285928, 'num_leaves': 118, 'max_depth': 8, 'min_child_samples': 86, 'feature_fraction': 0.5494381487348168, 'bagging_fraction': 0.6298790262069425, 'scale_pos_weight': 1.8914930058627313}. Best is trial 27 with value: 0.8912415845804287.\n"
     ]
    },
    {
     "name": "stdout",
     "output_type": "stream",
     "text": [
      "Training until validation scores don't improve for 20 rounds\n",
      "Did not meet early stopping. Best iteration is:\n",
      "[100]\tvalid_0's auc: 0.888876\tvalid_0's binary_logloss: 0.37694\n"
     ]
    },
    {
     "name": "stderr",
     "output_type": "stream",
     "text": [
      "[I 2025-06-28 14:36:20,323] Trial 34 finished with value: 0.8888758410610369 and parameters: {'learning_rate': 0.07512846779056004, 'num_leaves': 108, 'max_depth': 10, 'min_child_samples': 99, 'feature_fraction': 0.5860749354596582, 'bagging_fraction': 0.6093565876235179, 'scale_pos_weight': 2.7565785330609547}. Best is trial 27 with value: 0.8912415845804287.\n"
     ]
    },
    {
     "name": "stdout",
     "output_type": "stream",
     "text": [
      "Training until validation scores don't improve for 20 rounds\n"
     ]
    },
    {
     "name": "stderr",
     "output_type": "stream",
     "text": [
      "[I 2025-06-28 14:36:24,408] Trial 35 finished with value: 0.8719107220785873 and parameters: {'learning_rate': 0.10971618605608073, 'num_leaves': 129, 'max_depth': 13, 'min_child_samples': 91, 'feature_fraction': 0.9913634175954558, 'bagging_fraction': 0.5035298808859738, 'scale_pos_weight': 3.755078213276561}. Best is trial 27 with value: 0.8912415845804287.\n"
     ]
    },
    {
     "name": "stdout",
     "output_type": "stream",
     "text": [
      "Early stopping, best iteration is:\n",
      "[11]\tvalid_0's auc: 0.871911\tvalid_0's binary_logloss: 0.421352\n",
      "Training until validation scores don't improve for 20 rounds\n"
     ]
    },
    {
     "name": "stderr",
     "output_type": "stream",
     "text": [
      "[I 2025-06-28 14:36:27,237] Trial 36 finished with value: 0.8492951356140501 and parameters: {'learning_rate': 0.1251890136548014, 'num_leaves': 93, 'max_depth': 11, 'min_child_samples': 92, 'feature_fraction': 0.5471777233864723, 'bagging_fraction': 0.6660431927494637, 'scale_pos_weight': 6.12719467748197}. Best is trial 27 with value: 0.8912415845804287.\n"
     ]
    },
    {
     "name": "stdout",
     "output_type": "stream",
     "text": [
      "Early stopping, best iteration is:\n",
      "[3]\tvalid_0's auc: 0.849295\tvalid_0's binary_logloss: 0.478562\n",
      "Training until validation scores don't improve for 20 rounds\n",
      "Did not meet early stopping. Best iteration is:\n",
      "[100]\tvalid_0's auc: 0.88261\tvalid_0's binary_logloss: 0.352259\n"
     ]
    },
    {
     "name": "stderr",
     "output_type": "stream",
     "text": [
      "[I 2025-06-28 14:36:35,177] Trial 37 finished with value: 0.8826103863412017 and parameters: {'learning_rate': 0.05688885177130647, 'num_leaves': 107, 'max_depth': 7, 'min_child_samples': 82, 'feature_fraction': 0.5002432941191552, 'bagging_fraction': 0.5513461036943905, 'scale_pos_weight': 1.7400063610724534}. Best is trial 27 with value: 0.8912415845804287.\n"
     ]
    },
    {
     "name": "stdout",
     "output_type": "stream",
     "text": [
      "Training until validation scores don't improve for 20 rounds\n"
     ]
    },
    {
     "name": "stderr",
     "output_type": "stream",
     "text": [
      "[I 2025-06-28 14:36:39,290] Trial 38 finished with value: 0.8692366673756806 and parameters: {'learning_rate': 0.10054550291337781, 'num_leaves': 141, 'max_depth': 9, 'min_child_samples': 77, 'feature_fraction': 0.6865921486164219, 'bagging_fraction': 0.5864288892274069, 'scale_pos_weight': 4.537454974504122}. Best is trial 27 with value: 0.8912415845804287.\n"
     ]
    },
    {
     "name": "stdout",
     "output_type": "stream",
     "text": [
      "Early stopping, best iteration is:\n",
      "[11]\tvalid_0's auc: 0.869237\tvalid_0's binary_logloss: 0.447448\n",
      "Training until validation scores don't improve for 20 rounds\n"
     ]
    },
    {
     "name": "stderr",
     "output_type": "stream",
     "text": [
      "[I 2025-06-28 14:51:46,725] Trial 39 finished with value: 0.8901238740966944 and parameters: {'learning_rate': 0.15262773804465224, 'num_leaves': 128, 'max_depth': 9, 'min_child_samples': 64, 'feature_fraction': 0.6343455591360934, 'bagging_fraction': 0.7163088640783435, 'scale_pos_weight': 2.8756811962141944}. Best is trial 27 with value: 0.8912415845804287.\n"
     ]
    },
    {
     "name": "stdout",
     "output_type": "stream",
     "text": [
      "Did not meet early stopping. Best iteration is:\n",
      "[99]\tvalid_0's auc: 0.890124\tvalid_0's binary_logloss: 0.370461\n",
      "Training until validation scores don't improve for 20 rounds\n"
     ]
    },
    {
     "name": "stderr",
     "output_type": "stream",
     "text": [
      "[I 2025-06-28 14:51:51,663] Trial 40 finished with value: 0.89077524639612 and parameters: {'learning_rate': 0.13511915422483498, 'num_leaves': 93, 'max_depth': 12, 'min_child_samples': 99, 'feature_fraction': 0.7296523113514337, 'bagging_fraction': 0.6217975338827653, 'scale_pos_weight': 3.473810485843757}. Best is trial 27 with value: 0.8912415845804287.\n"
     ]
    },
    {
     "name": "stdout",
     "output_type": "stream",
     "text": [
      "Did not meet early stopping. Best iteration is:\n",
      "[100]\tvalid_0's auc: 0.890775\tvalid_0's binary_logloss: 0.392363\n",
      "Training until validation scores don't improve for 20 rounds\n"
     ]
    },
    {
     "name": "stderr",
     "output_type": "stream",
     "text": [
      "[I 2025-06-28 14:51:54,947] Trial 41 finished with value: 0.8909315386484105 and parameters: {'learning_rate': 0.13946261511005004, 'num_leaves': 91, 'max_depth': 12, 'min_child_samples': 100, 'feature_fraction': 0.9200275198274299, 'bagging_fraction': 0.6166202515657079, 'scale_pos_weight': 3.4392551832054856}. Best is trial 27 with value: 0.8912415845804287.\n"
     ]
    },
    {
     "name": "stdout",
     "output_type": "stream",
     "text": [
      "Did not meet early stopping. Best iteration is:\n",
      "[100]\tvalid_0's auc: 0.890932\tvalid_0's binary_logloss: 0.390752\n",
      "Training until validation scores don't improve for 20 rounds\n"
     ]
    },
    {
     "name": "stderr",
     "output_type": "stream",
     "text": [
      "[I 2025-06-28 14:51:56,061] Trial 42 finished with value: 0.8692641897618372 and parameters: {'learning_rate': 0.12063759838959558, 'num_leaves': 92, 'max_depth': 12, 'min_child_samples': 94, 'feature_fraction': 0.8797780714687511, 'bagging_fraction': 0.6239126163386507, 'scale_pos_weight': 4.217368506454063}. Best is trial 27 with value: 0.8912415845804287.\n"
     ]
    },
    {
     "name": "stdout",
     "output_type": "stream",
     "text": [
      "Early stopping, best iteration is:\n",
      "[9]\tvalid_0's auc: 0.869264\tvalid_0's binary_logloss: 0.437643\n",
      "Training until validation scores don't improve for 20 rounds\n"
     ]
    },
    {
     "name": "stderr",
     "output_type": "stream",
     "text": [
      "[I 2025-06-28 14:51:58,721] Trial 43 finished with value: 0.8899938023103965 and parameters: {'learning_rate': 0.13495051505452688, 'num_leaves': 104, 'max_depth': 11, 'min_child_samples': 100, 'feature_fraction': 0.8473400339984584, 'bagging_fraction': 0.6545008844513049, 'scale_pos_weight': 3.3783303312767}. Best is trial 27 with value: 0.8912415845804287.\n"
     ]
    },
    {
     "name": "stdout",
     "output_type": "stream",
     "text": [
      "Did not meet early stopping. Best iteration is:\n",
      "[97]\tvalid_0's auc: 0.889994\tvalid_0's binary_logloss: 0.389486\n",
      "Training until validation scores don't improve for 20 rounds\n"
     ]
    },
    {
     "name": "stderr",
     "output_type": "stream",
     "text": [
      "[I 2025-06-28 14:51:59,905] Trial 44 finished with value: 0.8732290794139697 and parameters: {'learning_rate': 0.08824086515075646, 'num_leaves': 112, 'max_depth': 10, 'min_child_samples': 86, 'feature_fraction': 0.9537883660932208, 'bagging_fraction': 0.5332757902974881, 'scale_pos_weight': 3.442191790674372}. Best is trial 27 with value: 0.8912415845804287.\n"
     ]
    },
    {
     "name": "stdout",
     "output_type": "stream",
     "text": [
      "Early stopping, best iteration is:\n",
      "[17]\tvalid_0's auc: 0.873229\tvalid_0's binary_logloss: 0.416097\n",
      "Training until validation scores don't improve for 20 rounds\n"
     ]
    },
    {
     "name": "stderr",
     "output_type": "stream",
     "text": [
      "[I 2025-06-28 14:52:00,808] Trial 45 finished with value: 0.864059453025896 and parameters: {'learning_rate': 0.1295891508230476, 'num_leaves': 98, 'max_depth': 11, 'min_child_samples': 93, 'feature_fraction': 0.768718251186364, 'bagging_fraction': 0.6096233809335927, 'scale_pos_weight': 4.952733267771223}. Best is trial 27 with value: 0.8912415845804287.\n"
     ]
    },
    {
     "name": "stdout",
     "output_type": "stream",
     "text": [
      "Early stopping, best iteration is:\n",
      "[6]\tvalid_0's auc: 0.864059\tvalid_0's binary_logloss: 0.454308\n",
      "Training until validation scores don't improve for 20 rounds\n"
     ]
    },
    {
     "name": "stderr",
     "output_type": "stream",
     "text": [
      "[I 2025-06-28 14:52:03,522] Trial 46 finished with value: 0.8906340722194009 and parameters: {'learning_rate': 0.1091527825576512, 'num_leaves': 91, 'max_depth': 12, 'min_child_samples': 78, 'feature_fraction': 0.7265194198502863, 'bagging_fraction': 0.6458424453375823, 'scale_pos_weight': 1.4608762330267555}. Best is trial 27 with value: 0.8912415845804287.\n"
     ]
    },
    {
     "name": "stdout",
     "output_type": "stream",
     "text": [
      "Did not meet early stopping. Best iteration is:\n",
      "[100]\tvalid_0's auc: 0.890634\tvalid_0's binary_logloss: 0.331649\n",
      "Training until validation scores don't improve for 20 rounds\n"
     ]
    },
    {
     "name": "stderr",
     "output_type": "stream",
     "text": [
      "[I 2025-06-28 17:44:49,847] Trial 47 finished with value: 0.8911866394273366 and parameters: {'learning_rate': 0.11106709150342306, 'num_leaves': 127, 'max_depth': 12, 'min_child_samples': 95, 'feature_fraction': 0.7405206326620355, 'bagging_fraction': 0.6418161555932613, 'scale_pos_weight': 1.506845539602725}. Best is trial 27 with value: 0.8912415845804287.\n"
     ]
    },
    {
     "name": "stdout",
     "output_type": "stream",
     "text": [
      "Did not meet early stopping. Best iteration is:\n",
      "[100]\tvalid_0's auc: 0.891187\tvalid_0's binary_logloss: 0.331528\n",
      "Training until validation scores don't improve for 20 rounds\n"
     ]
    },
    {
     "name": "stderr",
     "output_type": "stream",
     "text": [
      "[I 2025-06-28 17:44:53,335] Trial 48 finished with value: 0.8591583694161021 and parameters: {'learning_rate': 0.09844572554674205, 'num_leaves': 128, 'max_depth': 13, 'min_child_samples': 96, 'feature_fraction': 0.7361668576145993, 'bagging_fraction': 0.5689001920103346, 'scale_pos_weight': 8.025514999001384}. Best is trial 27 with value: 0.8912415845804287.\n"
     ]
    },
    {
     "name": "stdout",
     "output_type": "stream",
     "text": [
      "Early stopping, best iteration is:\n",
      "[4]\tvalid_0's auc: 0.859158\tvalid_0's binary_logloss: 0.478304\n",
      "Training until validation scores don't improve for 20 rounds\n"
     ]
    },
    {
     "name": "stderr",
     "output_type": "stream",
     "text": [
      "[I 2025-06-28 17:44:54,943] Trial 49 finished with value: 0.8764788713815551 and parameters: {'learning_rate': 0.11416645365719874, 'num_leaves': 118, 'max_depth': 4, 'min_child_samples': 88, 'feature_fraction': 0.768529480890116, 'bagging_fraction': 0.7050181331859798, 'scale_pos_weight': 1.429272346451622}. Best is trial 27 with value: 0.8912415845804287.\n"
     ]
    },
    {
     "name": "stdout",
     "output_type": "stream",
     "text": [
      "Did not meet early stopping. Best iteration is:\n",
      "[100]\tvalid_0's auc: 0.876479\tvalid_0's binary_logloss: 0.350377\n"
     ]
    }
   ],
   "source": [
    "study = optuna.create_study(direction=\"maximize\")\n",
    "study.optimize(objective, n_trials=50)\n"
   ]
  },
  {
   "cell_type": "code",
   "execution_count": 59,
   "id": "373cd9b3-ce25-4815-b000-693fc05e6d55",
   "metadata": {},
   "outputs": [
    {
     "name": "stdout",
     "output_type": "stream",
     "text": [
      "Best Trial:\n",
      "  Value (AUC): 0.8912415845804287\n",
      "  Best Hyperparameters:\n",
      "    learning_rate: 0.12135248320669911\n",
      "    num_leaves: 114\n",
      "    max_depth: 11\n",
      "    min_child_samples: 100\n",
      "    feature_fraction: 0.5512734781909172\n",
      "    bagging_fraction: 0.5929453470563474\n",
      "    scale_pos_weight: 2.19693154497164\n"
     ]
    }
   ],
   "source": [
    "# Assuming `study` is your completed Optuna study\n",
    "best_trial = study.best_trial\n",
    "\n",
    "print(\"Best Trial:\")\n",
    "print(f\"  Value (AUC): {best_trial.value}\")\n",
    "print(\"  Best Hyperparameters:\")\n",
    "for key, value in best_trial.params.items():\n",
    "    print(f\"    {key}: {value}\")\n"
   ]
  },
  {
   "cell_type": "code",
   "execution_count": 60,
   "id": "d7ee5a0f-0696-4dbf-8bb2-5bef62b3b345",
   "metadata": {},
   "outputs": [],
   "source": [
    "# If you want to save these best parameters as a dictionary for later use:\n",
    "best_params = best_trial.params\n",
    "best_params['objective'] = 'binary'\n",
    "best_params['boosting_type'] = 'gbdt'\n",
    "best_params['verbosity'] = -1\n",
    "best_params['n_jobs'] = -1\n"
   ]
  },
  {
   "cell_type": "code",
   "execution_count": 61,
   "id": "dc75d9d6-c506-4cc3-bf78-6af00036659a",
   "metadata": {},
   "outputs": [
    {
     "data": {
      "text/html": [
       "<style>#sk-container-id-1 {\n",
       "  /* Definition of color scheme common for light and dark mode */\n",
       "  --sklearn-color-text: #000;\n",
       "  --sklearn-color-text-muted: #666;\n",
       "  --sklearn-color-line: gray;\n",
       "  /* Definition of color scheme for unfitted estimators */\n",
       "  --sklearn-color-unfitted-level-0: #fff5e6;\n",
       "  --sklearn-color-unfitted-level-1: #f6e4d2;\n",
       "  --sklearn-color-unfitted-level-2: #ffe0b3;\n",
       "  --sklearn-color-unfitted-level-3: chocolate;\n",
       "  /* Definition of color scheme for fitted estimators */\n",
       "  --sklearn-color-fitted-level-0: #f0f8ff;\n",
       "  --sklearn-color-fitted-level-1: #d4ebff;\n",
       "  --sklearn-color-fitted-level-2: #b3dbfd;\n",
       "  --sklearn-color-fitted-level-3: cornflowerblue;\n",
       "\n",
       "  /* Specific color for light theme */\n",
       "  --sklearn-color-text-on-default-background: var(--sg-text-color, var(--theme-code-foreground, var(--jp-content-font-color1, black)));\n",
       "  --sklearn-color-background: var(--sg-background-color, var(--theme-background, var(--jp-layout-color0, white)));\n",
       "  --sklearn-color-border-box: var(--sg-text-color, var(--theme-code-foreground, var(--jp-content-font-color1, black)));\n",
       "  --sklearn-color-icon: #696969;\n",
       "\n",
       "  @media (prefers-color-scheme: dark) {\n",
       "    /* Redefinition of color scheme for dark theme */\n",
       "    --sklearn-color-text-on-default-background: var(--sg-text-color, var(--theme-code-foreground, var(--jp-content-font-color1, white)));\n",
       "    --sklearn-color-background: var(--sg-background-color, var(--theme-background, var(--jp-layout-color0, #111)));\n",
       "    --sklearn-color-border-box: var(--sg-text-color, var(--theme-code-foreground, var(--jp-content-font-color1, white)));\n",
       "    --sklearn-color-icon: #878787;\n",
       "  }\n",
       "}\n",
       "\n",
       "#sk-container-id-1 {\n",
       "  color: var(--sklearn-color-text);\n",
       "}\n",
       "\n",
       "#sk-container-id-1 pre {\n",
       "  padding: 0;\n",
       "}\n",
       "\n",
       "#sk-container-id-1 input.sk-hidden--visually {\n",
       "  border: 0;\n",
       "  clip: rect(1px 1px 1px 1px);\n",
       "  clip: rect(1px, 1px, 1px, 1px);\n",
       "  height: 1px;\n",
       "  margin: -1px;\n",
       "  overflow: hidden;\n",
       "  padding: 0;\n",
       "  position: absolute;\n",
       "  width: 1px;\n",
       "}\n",
       "\n",
       "#sk-container-id-1 div.sk-dashed-wrapped {\n",
       "  border: 1px dashed var(--sklearn-color-line);\n",
       "  margin: 0 0.4em 0.5em 0.4em;\n",
       "  box-sizing: border-box;\n",
       "  padding-bottom: 0.4em;\n",
       "  background-color: var(--sklearn-color-background);\n",
       "}\n",
       "\n",
       "#sk-container-id-1 div.sk-container {\n",
       "  /* jupyter's `normalize.less` sets `[hidden] { display: none; }`\n",
       "     but bootstrap.min.css set `[hidden] { display: none !important; }`\n",
       "     so we also need the `!important` here to be able to override the\n",
       "     default hidden behavior on the sphinx rendered scikit-learn.org.\n",
       "     See: https://github.com/scikit-learn/scikit-learn/issues/21755 */\n",
       "  display: inline-block !important;\n",
       "  position: relative;\n",
       "}\n",
       "\n",
       "#sk-container-id-1 div.sk-text-repr-fallback {\n",
       "  display: none;\n",
       "}\n",
       "\n",
       "div.sk-parallel-item,\n",
       "div.sk-serial,\n",
       "div.sk-item {\n",
       "  /* draw centered vertical line to link estimators */\n",
       "  background-image: linear-gradient(var(--sklearn-color-text-on-default-background), var(--sklearn-color-text-on-default-background));\n",
       "  background-size: 2px 100%;\n",
       "  background-repeat: no-repeat;\n",
       "  background-position: center center;\n",
       "}\n",
       "\n",
       "/* Parallel-specific style estimator block */\n",
       "\n",
       "#sk-container-id-1 div.sk-parallel-item::after {\n",
       "  content: \"\";\n",
       "  width: 100%;\n",
       "  border-bottom: 2px solid var(--sklearn-color-text-on-default-background);\n",
       "  flex-grow: 1;\n",
       "}\n",
       "\n",
       "#sk-container-id-1 div.sk-parallel {\n",
       "  display: flex;\n",
       "  align-items: stretch;\n",
       "  justify-content: center;\n",
       "  background-color: var(--sklearn-color-background);\n",
       "  position: relative;\n",
       "}\n",
       "\n",
       "#sk-container-id-1 div.sk-parallel-item {\n",
       "  display: flex;\n",
       "  flex-direction: column;\n",
       "}\n",
       "\n",
       "#sk-container-id-1 div.sk-parallel-item:first-child::after {\n",
       "  align-self: flex-end;\n",
       "  width: 50%;\n",
       "}\n",
       "\n",
       "#sk-container-id-1 div.sk-parallel-item:last-child::after {\n",
       "  align-self: flex-start;\n",
       "  width: 50%;\n",
       "}\n",
       "\n",
       "#sk-container-id-1 div.sk-parallel-item:only-child::after {\n",
       "  width: 0;\n",
       "}\n",
       "\n",
       "/* Serial-specific style estimator block */\n",
       "\n",
       "#sk-container-id-1 div.sk-serial {\n",
       "  display: flex;\n",
       "  flex-direction: column;\n",
       "  align-items: center;\n",
       "  background-color: var(--sklearn-color-background);\n",
       "  padding-right: 1em;\n",
       "  padding-left: 1em;\n",
       "}\n",
       "\n",
       "\n",
       "/* Toggleable style: style used for estimator/Pipeline/ColumnTransformer box that is\n",
       "clickable and can be expanded/collapsed.\n",
       "- Pipeline and ColumnTransformer use this feature and define the default style\n",
       "- Estimators will overwrite some part of the style using the `sk-estimator` class\n",
       "*/\n",
       "\n",
       "/* Pipeline and ColumnTransformer style (default) */\n",
       "\n",
       "#sk-container-id-1 div.sk-toggleable {\n",
       "  /* Default theme specific background. It is overwritten whether we have a\n",
       "  specific estimator or a Pipeline/ColumnTransformer */\n",
       "  background-color: var(--sklearn-color-background);\n",
       "}\n",
       "\n",
       "/* Toggleable label */\n",
       "#sk-container-id-1 label.sk-toggleable__label {\n",
       "  cursor: pointer;\n",
       "  display: flex;\n",
       "  width: 100%;\n",
       "  margin-bottom: 0;\n",
       "  padding: 0.5em;\n",
       "  box-sizing: border-box;\n",
       "  text-align: center;\n",
       "  align-items: start;\n",
       "  justify-content: space-between;\n",
       "  gap: 0.5em;\n",
       "}\n",
       "\n",
       "#sk-container-id-1 label.sk-toggleable__label .caption {\n",
       "  font-size: 0.6rem;\n",
       "  font-weight: lighter;\n",
       "  color: var(--sklearn-color-text-muted);\n",
       "}\n",
       "\n",
       "#sk-container-id-1 label.sk-toggleable__label-arrow:before {\n",
       "  /* Arrow on the left of the label */\n",
       "  content: \"▸\";\n",
       "  float: left;\n",
       "  margin-right: 0.25em;\n",
       "  color: var(--sklearn-color-icon);\n",
       "}\n",
       "\n",
       "#sk-container-id-1 label.sk-toggleable__label-arrow:hover:before {\n",
       "  color: var(--sklearn-color-text);\n",
       "}\n",
       "\n",
       "/* Toggleable content - dropdown */\n",
       "\n",
       "#sk-container-id-1 div.sk-toggleable__content {\n",
       "  display: none;\n",
       "  text-align: left;\n",
       "  /* unfitted */\n",
       "  background-color: var(--sklearn-color-unfitted-level-0);\n",
       "}\n",
       "\n",
       "#sk-container-id-1 div.sk-toggleable__content.fitted {\n",
       "  /* fitted */\n",
       "  background-color: var(--sklearn-color-fitted-level-0);\n",
       "}\n",
       "\n",
       "#sk-container-id-1 div.sk-toggleable__content pre {\n",
       "  margin: 0.2em;\n",
       "  border-radius: 0.25em;\n",
       "  color: var(--sklearn-color-text);\n",
       "  /* unfitted */\n",
       "  background-color: var(--sklearn-color-unfitted-level-0);\n",
       "}\n",
       "\n",
       "#sk-container-id-1 div.sk-toggleable__content.fitted pre {\n",
       "  /* unfitted */\n",
       "  background-color: var(--sklearn-color-fitted-level-0);\n",
       "}\n",
       "\n",
       "#sk-container-id-1 input.sk-toggleable__control:checked~div.sk-toggleable__content {\n",
       "  /* Expand drop-down */\n",
       "  display: block;\n",
       "  width: 100%;\n",
       "  overflow: visible;\n",
       "}\n",
       "\n",
       "#sk-container-id-1 input.sk-toggleable__control:checked~label.sk-toggleable__label-arrow:before {\n",
       "  content: \"▾\";\n",
       "}\n",
       "\n",
       "/* Pipeline/ColumnTransformer-specific style */\n",
       "\n",
       "#sk-container-id-1 div.sk-label input.sk-toggleable__control:checked~label.sk-toggleable__label {\n",
       "  color: var(--sklearn-color-text);\n",
       "  background-color: var(--sklearn-color-unfitted-level-2);\n",
       "}\n",
       "\n",
       "#sk-container-id-1 div.sk-label.fitted input.sk-toggleable__control:checked~label.sk-toggleable__label {\n",
       "  background-color: var(--sklearn-color-fitted-level-2);\n",
       "}\n",
       "\n",
       "/* Estimator-specific style */\n",
       "\n",
       "/* Colorize estimator box */\n",
       "#sk-container-id-1 div.sk-estimator input.sk-toggleable__control:checked~label.sk-toggleable__label {\n",
       "  /* unfitted */\n",
       "  background-color: var(--sklearn-color-unfitted-level-2);\n",
       "}\n",
       "\n",
       "#sk-container-id-1 div.sk-estimator.fitted input.sk-toggleable__control:checked~label.sk-toggleable__label {\n",
       "  /* fitted */\n",
       "  background-color: var(--sklearn-color-fitted-level-2);\n",
       "}\n",
       "\n",
       "#sk-container-id-1 div.sk-label label.sk-toggleable__label,\n",
       "#sk-container-id-1 div.sk-label label {\n",
       "  /* The background is the default theme color */\n",
       "  color: var(--sklearn-color-text-on-default-background);\n",
       "}\n",
       "\n",
       "/* On hover, darken the color of the background */\n",
       "#sk-container-id-1 div.sk-label:hover label.sk-toggleable__label {\n",
       "  color: var(--sklearn-color-text);\n",
       "  background-color: var(--sklearn-color-unfitted-level-2);\n",
       "}\n",
       "\n",
       "/* Label box, darken color on hover, fitted */\n",
       "#sk-container-id-1 div.sk-label.fitted:hover label.sk-toggleable__label.fitted {\n",
       "  color: var(--sklearn-color-text);\n",
       "  background-color: var(--sklearn-color-fitted-level-2);\n",
       "}\n",
       "\n",
       "/* Estimator label */\n",
       "\n",
       "#sk-container-id-1 div.sk-label label {\n",
       "  font-family: monospace;\n",
       "  font-weight: bold;\n",
       "  display: inline-block;\n",
       "  line-height: 1.2em;\n",
       "}\n",
       "\n",
       "#sk-container-id-1 div.sk-label-container {\n",
       "  text-align: center;\n",
       "}\n",
       "\n",
       "/* Estimator-specific */\n",
       "#sk-container-id-1 div.sk-estimator {\n",
       "  font-family: monospace;\n",
       "  border: 1px dotted var(--sklearn-color-border-box);\n",
       "  border-radius: 0.25em;\n",
       "  box-sizing: border-box;\n",
       "  margin-bottom: 0.5em;\n",
       "  /* unfitted */\n",
       "  background-color: var(--sklearn-color-unfitted-level-0);\n",
       "}\n",
       "\n",
       "#sk-container-id-1 div.sk-estimator.fitted {\n",
       "  /* fitted */\n",
       "  background-color: var(--sklearn-color-fitted-level-0);\n",
       "}\n",
       "\n",
       "/* on hover */\n",
       "#sk-container-id-1 div.sk-estimator:hover {\n",
       "  /* unfitted */\n",
       "  background-color: var(--sklearn-color-unfitted-level-2);\n",
       "}\n",
       "\n",
       "#sk-container-id-1 div.sk-estimator.fitted:hover {\n",
       "  /* fitted */\n",
       "  background-color: var(--sklearn-color-fitted-level-2);\n",
       "}\n",
       "\n",
       "/* Specification for estimator info (e.g. \"i\" and \"?\") */\n",
       "\n",
       "/* Common style for \"i\" and \"?\" */\n",
       "\n",
       ".sk-estimator-doc-link,\n",
       "a:link.sk-estimator-doc-link,\n",
       "a:visited.sk-estimator-doc-link {\n",
       "  float: right;\n",
       "  font-size: smaller;\n",
       "  line-height: 1em;\n",
       "  font-family: monospace;\n",
       "  background-color: var(--sklearn-color-background);\n",
       "  border-radius: 1em;\n",
       "  height: 1em;\n",
       "  width: 1em;\n",
       "  text-decoration: none !important;\n",
       "  margin-left: 0.5em;\n",
       "  text-align: center;\n",
       "  /* unfitted */\n",
       "  border: var(--sklearn-color-unfitted-level-1) 1pt solid;\n",
       "  color: var(--sklearn-color-unfitted-level-1);\n",
       "}\n",
       "\n",
       ".sk-estimator-doc-link.fitted,\n",
       "a:link.sk-estimator-doc-link.fitted,\n",
       "a:visited.sk-estimator-doc-link.fitted {\n",
       "  /* fitted */\n",
       "  border: var(--sklearn-color-fitted-level-1) 1pt solid;\n",
       "  color: var(--sklearn-color-fitted-level-1);\n",
       "}\n",
       "\n",
       "/* On hover */\n",
       "div.sk-estimator:hover .sk-estimator-doc-link:hover,\n",
       ".sk-estimator-doc-link:hover,\n",
       "div.sk-label-container:hover .sk-estimator-doc-link:hover,\n",
       ".sk-estimator-doc-link:hover {\n",
       "  /* unfitted */\n",
       "  background-color: var(--sklearn-color-unfitted-level-3);\n",
       "  color: var(--sklearn-color-background);\n",
       "  text-decoration: none;\n",
       "}\n",
       "\n",
       "div.sk-estimator.fitted:hover .sk-estimator-doc-link.fitted:hover,\n",
       ".sk-estimator-doc-link.fitted:hover,\n",
       "div.sk-label-container:hover .sk-estimator-doc-link.fitted:hover,\n",
       ".sk-estimator-doc-link.fitted:hover {\n",
       "  /* fitted */\n",
       "  background-color: var(--sklearn-color-fitted-level-3);\n",
       "  color: var(--sklearn-color-background);\n",
       "  text-decoration: none;\n",
       "}\n",
       "\n",
       "/* Span, style for the box shown on hovering the info icon */\n",
       ".sk-estimator-doc-link span {\n",
       "  display: none;\n",
       "  z-index: 9999;\n",
       "  position: relative;\n",
       "  font-weight: normal;\n",
       "  right: .2ex;\n",
       "  padding: .5ex;\n",
       "  margin: .5ex;\n",
       "  width: min-content;\n",
       "  min-width: 20ex;\n",
       "  max-width: 50ex;\n",
       "  color: var(--sklearn-color-text);\n",
       "  box-shadow: 2pt 2pt 4pt #999;\n",
       "  /* unfitted */\n",
       "  background: var(--sklearn-color-unfitted-level-0);\n",
       "  border: .5pt solid var(--sklearn-color-unfitted-level-3);\n",
       "}\n",
       "\n",
       ".sk-estimator-doc-link.fitted span {\n",
       "  /* fitted */\n",
       "  background: var(--sklearn-color-fitted-level-0);\n",
       "  border: var(--sklearn-color-fitted-level-3);\n",
       "}\n",
       "\n",
       ".sk-estimator-doc-link:hover span {\n",
       "  display: block;\n",
       "}\n",
       "\n",
       "/* \"?\"-specific style due to the `<a>` HTML tag */\n",
       "\n",
       "#sk-container-id-1 a.estimator_doc_link {\n",
       "  float: right;\n",
       "  font-size: 1rem;\n",
       "  line-height: 1em;\n",
       "  font-family: monospace;\n",
       "  background-color: var(--sklearn-color-background);\n",
       "  border-radius: 1rem;\n",
       "  height: 1rem;\n",
       "  width: 1rem;\n",
       "  text-decoration: none;\n",
       "  /* unfitted */\n",
       "  color: var(--sklearn-color-unfitted-level-1);\n",
       "  border: var(--sklearn-color-unfitted-level-1) 1pt solid;\n",
       "}\n",
       "\n",
       "#sk-container-id-1 a.estimator_doc_link.fitted {\n",
       "  /* fitted */\n",
       "  border: var(--sklearn-color-fitted-level-1) 1pt solid;\n",
       "  color: var(--sklearn-color-fitted-level-1);\n",
       "}\n",
       "\n",
       "/* On hover */\n",
       "#sk-container-id-1 a.estimator_doc_link:hover {\n",
       "  /* unfitted */\n",
       "  background-color: var(--sklearn-color-unfitted-level-3);\n",
       "  color: var(--sklearn-color-background);\n",
       "  text-decoration: none;\n",
       "}\n",
       "\n",
       "#sk-container-id-1 a.estimator_doc_link.fitted:hover {\n",
       "  /* fitted */\n",
       "  background-color: var(--sklearn-color-fitted-level-3);\n",
       "}\n",
       "\n",
       ".estimator-table summary {\n",
       "    padding: .5rem;\n",
       "    font-family: monospace;\n",
       "    cursor: pointer;\n",
       "}\n",
       "\n",
       ".estimator-table details[open] {\n",
       "    padding-left: 0.1rem;\n",
       "    padding-right: 0.1rem;\n",
       "    padding-bottom: 0.3rem;\n",
       "}\n",
       "\n",
       ".estimator-table .parameters-table {\n",
       "    margin-left: auto !important;\n",
       "    margin-right: auto !important;\n",
       "}\n",
       "\n",
       ".estimator-table .parameters-table tr:nth-child(odd) {\n",
       "    background-color: #fff;\n",
       "}\n",
       "\n",
       ".estimator-table .parameters-table tr:nth-child(even) {\n",
       "    background-color: #f6f6f6;\n",
       "}\n",
       "\n",
       ".estimator-table .parameters-table tr:hover {\n",
       "    background-color: #e0e0e0;\n",
       "}\n",
       "\n",
       ".estimator-table table td {\n",
       "    border: 1px solid rgba(106, 105, 104, 0.232);\n",
       "}\n",
       "\n",
       ".user-set td {\n",
       "    color:rgb(255, 94, 0);\n",
       "    text-align: left;\n",
       "}\n",
       "\n",
       ".user-set td.value pre {\n",
       "    color:rgb(255, 94, 0) !important;\n",
       "    background-color: transparent !important;\n",
       "}\n",
       "\n",
       ".default td {\n",
       "    color: black;\n",
       "    text-align: left;\n",
       "}\n",
       "\n",
       ".user-set td i,\n",
       ".default td i {\n",
       "    color: black;\n",
       "}\n",
       "\n",
       ".copy-paste-icon {\n",
       "    background-image: url(data:image/svg+xml;base64,PHN2ZyB4bWxucz0iaHR0cDovL3d3dy53My5vcmcvMjAwMC9zdmciIHZpZXdCb3g9IjAgMCA0NDggNTEyIj48IS0tIUZvbnQgQXdlc29tZSBGcmVlIDYuNy4yIGJ5IEBmb250YXdlc29tZSAtIGh0dHBzOi8vZm9udGF3ZXNvbWUuY29tIExpY2Vuc2UgLSBodHRwczovL2ZvbnRhd2Vzb21lLmNvbS9saWNlbnNlL2ZyZWUgQ29weXJpZ2h0IDIwMjUgRm9udGljb25zLCBJbmMuLS0+PHBhdGggZD0iTTIwOCAwTDMzMi4xIDBjMTIuNyAwIDI0LjkgNS4xIDMzLjkgMTQuMWw2Ny45IDY3LjljOSA5IDE0LjEgMjEuMiAxNC4xIDMzLjlMNDQ4IDMzNmMwIDI2LjUtMjEuNSA0OC00OCA0OGwtMTkyIDBjLTI2LjUgMC00OC0yMS41LTQ4LTQ4bDAtMjg4YzAtMjYuNSAyMS41LTQ4IDQ4LTQ4ek00OCAxMjhsODAgMCAwIDY0LTY0IDAgMCAyNTYgMTkyIDAgMC0zMiA2NCAwIDAgNDhjMCAyNi41LTIxLjUgNDgtNDggNDhMNDggNTEyYy0yNi41IDAtNDgtMjEuNS00OC00OEwwIDE3NmMwLTI2LjUgMjEuNS00OCA0OC00OHoiLz48L3N2Zz4=);\n",
       "    background-repeat: no-repeat;\n",
       "    background-size: 14px 14px;\n",
       "    background-position: 0;\n",
       "    display: inline-block;\n",
       "    width: 14px;\n",
       "    height: 14px;\n",
       "    cursor: pointer;\n",
       "}\n",
       "</style><body><div id=\"sk-container-id-1\" class=\"sk-top-container\"><div class=\"sk-text-repr-fallback\"><pre>LGBMClassifier(bagging_fraction=0.5929453470563474,\n",
       "               feature_fraction=0.5512734781909172,\n",
       "               learning_rate=0.12135248320669911, max_depth=11,\n",
       "               min_child_samples=100, n_jobs=-1, num_leaves=114,\n",
       "               objective=&#x27;binary&#x27;, scale_pos_weight=2.19693154497164,\n",
       "               verbosity=-1)</pre><b>In a Jupyter environment, please rerun this cell to show the HTML representation or trust the notebook. <br />On GitHub, the HTML representation is unable to render, please try loading this page with nbviewer.org.</b></div><div class=\"sk-container\" hidden><div class=\"sk-item\"><div class=\"sk-estimator fitted sk-toggleable\"><input class=\"sk-toggleable__control sk-hidden--visually\" id=\"sk-estimator-id-1\" type=\"checkbox\" checked><label for=\"sk-estimator-id-1\" class=\"sk-toggleable__label fitted sk-toggleable__label-arrow\"><div><div>LGBMClassifier</div></div><div><span class=\"sk-estimator-doc-link fitted\">i<span>Fitted</span></span></div></label><div class=\"sk-toggleable__content fitted\" data-param-prefix=\"\">\n",
       "        <div class=\"estimator-table\">\n",
       "            <details>\n",
       "                <summary>Parameters</summary>\n",
       "                <table class=\"parameters-table\">\n",
       "                  <tbody>\n",
       "                    \n",
       "        <tr class=\"default\">\n",
       "            <td><i class=\"copy-paste-icon\"\n",
       "                 onclick=\"copyToClipboard('boosting_type',\n",
       "                          this.parentElement.nextElementSibling)\"\n",
       "            ></i></td>\n",
       "            <td class=\"param\">boosting_type&nbsp;</td>\n",
       "            <td class=\"value\">&#x27;gbdt&#x27;</td>\n",
       "        </tr>\n",
       "    \n",
       "\n",
       "        <tr class=\"user-set\">\n",
       "            <td><i class=\"copy-paste-icon\"\n",
       "                 onclick=\"copyToClipboard('num_leaves',\n",
       "                          this.parentElement.nextElementSibling)\"\n",
       "            ></i></td>\n",
       "            <td class=\"param\">num_leaves&nbsp;</td>\n",
       "            <td class=\"value\">114</td>\n",
       "        </tr>\n",
       "    \n",
       "\n",
       "        <tr class=\"user-set\">\n",
       "            <td><i class=\"copy-paste-icon\"\n",
       "                 onclick=\"copyToClipboard('max_depth',\n",
       "                          this.parentElement.nextElementSibling)\"\n",
       "            ></i></td>\n",
       "            <td class=\"param\">max_depth&nbsp;</td>\n",
       "            <td class=\"value\">11</td>\n",
       "        </tr>\n",
       "    \n",
       "\n",
       "        <tr class=\"user-set\">\n",
       "            <td><i class=\"copy-paste-icon\"\n",
       "                 onclick=\"copyToClipboard('learning_rate',\n",
       "                          this.parentElement.nextElementSibling)\"\n",
       "            ></i></td>\n",
       "            <td class=\"param\">learning_rate&nbsp;</td>\n",
       "            <td class=\"value\">0.12135248320669911</td>\n",
       "        </tr>\n",
       "    \n",
       "\n",
       "        <tr class=\"default\">\n",
       "            <td><i class=\"copy-paste-icon\"\n",
       "                 onclick=\"copyToClipboard('n_estimators',\n",
       "                          this.parentElement.nextElementSibling)\"\n",
       "            ></i></td>\n",
       "            <td class=\"param\">n_estimators&nbsp;</td>\n",
       "            <td class=\"value\">100</td>\n",
       "        </tr>\n",
       "    \n",
       "\n",
       "        <tr class=\"default\">\n",
       "            <td><i class=\"copy-paste-icon\"\n",
       "                 onclick=\"copyToClipboard('subsample_for_bin',\n",
       "                          this.parentElement.nextElementSibling)\"\n",
       "            ></i></td>\n",
       "            <td class=\"param\">subsample_for_bin&nbsp;</td>\n",
       "            <td class=\"value\">200000</td>\n",
       "        </tr>\n",
       "    \n",
       "\n",
       "        <tr class=\"user-set\">\n",
       "            <td><i class=\"copy-paste-icon\"\n",
       "                 onclick=\"copyToClipboard('objective',\n",
       "                          this.parentElement.nextElementSibling)\"\n",
       "            ></i></td>\n",
       "            <td class=\"param\">objective&nbsp;</td>\n",
       "            <td class=\"value\">&#x27;binary&#x27;</td>\n",
       "        </tr>\n",
       "    \n",
       "\n",
       "        <tr class=\"default\">\n",
       "            <td><i class=\"copy-paste-icon\"\n",
       "                 onclick=\"copyToClipboard('class_weight',\n",
       "                          this.parentElement.nextElementSibling)\"\n",
       "            ></i></td>\n",
       "            <td class=\"param\">class_weight&nbsp;</td>\n",
       "            <td class=\"value\">None</td>\n",
       "        </tr>\n",
       "    \n",
       "\n",
       "        <tr class=\"default\">\n",
       "            <td><i class=\"copy-paste-icon\"\n",
       "                 onclick=\"copyToClipboard('min_split_gain',\n",
       "                          this.parentElement.nextElementSibling)\"\n",
       "            ></i></td>\n",
       "            <td class=\"param\">min_split_gain&nbsp;</td>\n",
       "            <td class=\"value\">0.0</td>\n",
       "        </tr>\n",
       "    \n",
       "\n",
       "        <tr class=\"default\">\n",
       "            <td><i class=\"copy-paste-icon\"\n",
       "                 onclick=\"copyToClipboard('min_child_weight',\n",
       "                          this.parentElement.nextElementSibling)\"\n",
       "            ></i></td>\n",
       "            <td class=\"param\">min_child_weight&nbsp;</td>\n",
       "            <td class=\"value\">0.001</td>\n",
       "        </tr>\n",
       "    \n",
       "\n",
       "        <tr class=\"user-set\">\n",
       "            <td><i class=\"copy-paste-icon\"\n",
       "                 onclick=\"copyToClipboard('min_child_samples',\n",
       "                          this.parentElement.nextElementSibling)\"\n",
       "            ></i></td>\n",
       "            <td class=\"param\">min_child_samples&nbsp;</td>\n",
       "            <td class=\"value\">100</td>\n",
       "        </tr>\n",
       "    \n",
       "\n",
       "        <tr class=\"default\">\n",
       "            <td><i class=\"copy-paste-icon\"\n",
       "                 onclick=\"copyToClipboard('subsample',\n",
       "                          this.parentElement.nextElementSibling)\"\n",
       "            ></i></td>\n",
       "            <td class=\"param\">subsample&nbsp;</td>\n",
       "            <td class=\"value\">1.0</td>\n",
       "        </tr>\n",
       "    \n",
       "\n",
       "        <tr class=\"default\">\n",
       "            <td><i class=\"copy-paste-icon\"\n",
       "                 onclick=\"copyToClipboard('subsample_freq',\n",
       "                          this.parentElement.nextElementSibling)\"\n",
       "            ></i></td>\n",
       "            <td class=\"param\">subsample_freq&nbsp;</td>\n",
       "            <td class=\"value\">0</td>\n",
       "        </tr>\n",
       "    \n",
       "\n",
       "        <tr class=\"default\">\n",
       "            <td><i class=\"copy-paste-icon\"\n",
       "                 onclick=\"copyToClipboard('colsample_bytree',\n",
       "                          this.parentElement.nextElementSibling)\"\n",
       "            ></i></td>\n",
       "            <td class=\"param\">colsample_bytree&nbsp;</td>\n",
       "            <td class=\"value\">1.0</td>\n",
       "        </tr>\n",
       "    \n",
       "\n",
       "        <tr class=\"default\">\n",
       "            <td><i class=\"copy-paste-icon\"\n",
       "                 onclick=\"copyToClipboard('reg_alpha',\n",
       "                          this.parentElement.nextElementSibling)\"\n",
       "            ></i></td>\n",
       "            <td class=\"param\">reg_alpha&nbsp;</td>\n",
       "            <td class=\"value\">0.0</td>\n",
       "        </tr>\n",
       "    \n",
       "\n",
       "        <tr class=\"default\">\n",
       "            <td><i class=\"copy-paste-icon\"\n",
       "                 onclick=\"copyToClipboard('reg_lambda',\n",
       "                          this.parentElement.nextElementSibling)\"\n",
       "            ></i></td>\n",
       "            <td class=\"param\">reg_lambda&nbsp;</td>\n",
       "            <td class=\"value\">0.0</td>\n",
       "        </tr>\n",
       "    \n",
       "\n",
       "        <tr class=\"default\">\n",
       "            <td><i class=\"copy-paste-icon\"\n",
       "                 onclick=\"copyToClipboard('random_state',\n",
       "                          this.parentElement.nextElementSibling)\"\n",
       "            ></i></td>\n",
       "            <td class=\"param\">random_state&nbsp;</td>\n",
       "            <td class=\"value\">None</td>\n",
       "        </tr>\n",
       "    \n",
       "\n",
       "        <tr class=\"user-set\">\n",
       "            <td><i class=\"copy-paste-icon\"\n",
       "                 onclick=\"copyToClipboard('n_jobs',\n",
       "                          this.parentElement.nextElementSibling)\"\n",
       "            ></i></td>\n",
       "            <td class=\"param\">n_jobs&nbsp;</td>\n",
       "            <td class=\"value\">-1</td>\n",
       "        </tr>\n",
       "    \n",
       "\n",
       "        <tr class=\"default\">\n",
       "            <td><i class=\"copy-paste-icon\"\n",
       "                 onclick=\"copyToClipboard('importance_type',\n",
       "                          this.parentElement.nextElementSibling)\"\n",
       "            ></i></td>\n",
       "            <td class=\"param\">importance_type&nbsp;</td>\n",
       "            <td class=\"value\">&#x27;split&#x27;</td>\n",
       "        </tr>\n",
       "    \n",
       "\n",
       "        <tr class=\"user-set\">\n",
       "            <td><i class=\"copy-paste-icon\"\n",
       "                 onclick=\"copyToClipboard('feature_fraction',\n",
       "                          this.parentElement.nextElementSibling)\"\n",
       "            ></i></td>\n",
       "            <td class=\"param\">feature_fraction&nbsp;</td>\n",
       "            <td class=\"value\">0.5512734781909172</td>\n",
       "        </tr>\n",
       "    \n",
       "\n",
       "        <tr class=\"user-set\">\n",
       "            <td><i class=\"copy-paste-icon\"\n",
       "                 onclick=\"copyToClipboard('bagging_fraction',\n",
       "                          this.parentElement.nextElementSibling)\"\n",
       "            ></i></td>\n",
       "            <td class=\"param\">bagging_fraction&nbsp;</td>\n",
       "            <td class=\"value\">0.5929453470563474</td>\n",
       "        </tr>\n",
       "    \n",
       "\n",
       "        <tr class=\"user-set\">\n",
       "            <td><i class=\"copy-paste-icon\"\n",
       "                 onclick=\"copyToClipboard('scale_pos_weight',\n",
       "                          this.parentElement.nextElementSibling)\"\n",
       "            ></i></td>\n",
       "            <td class=\"param\">scale_pos_weight&nbsp;</td>\n",
       "            <td class=\"value\">2.19693154497164</td>\n",
       "        </tr>\n",
       "    \n",
       "\n",
       "        <tr class=\"user-set\">\n",
       "            <td><i class=\"copy-paste-icon\"\n",
       "                 onclick=\"copyToClipboard('verbosity',\n",
       "                          this.parentElement.nextElementSibling)\"\n",
       "            ></i></td>\n",
       "            <td class=\"param\">verbosity&nbsp;</td>\n",
       "            <td class=\"value\">-1</td>\n",
       "        </tr>\n",
       "    \n",
       "                  </tbody>\n",
       "                </table>\n",
       "            </details>\n",
       "        </div>\n",
       "    </div></div></div></div></div><script>function copyToClipboard(text, element) {\n",
       "    // Get the parameter prefix from the closest toggleable content\n",
       "    const toggleableContent = element.closest('.sk-toggleable__content');\n",
       "    const paramPrefix = toggleableContent ? toggleableContent.dataset.paramPrefix : '';\n",
       "    const fullParamName = paramPrefix ? `${paramPrefix}${text}` : text;\n",
       "\n",
       "    const originalStyle = element.style;\n",
       "    const computedStyle = window.getComputedStyle(element);\n",
       "    const originalWidth = computedStyle.width;\n",
       "    const originalHTML = element.innerHTML.replace('Copied!', '');\n",
       "\n",
       "    navigator.clipboard.writeText(fullParamName)\n",
       "        .then(() => {\n",
       "            element.style.width = originalWidth;\n",
       "            element.style.color = 'green';\n",
       "            element.innerHTML = \"Copied!\";\n",
       "\n",
       "            setTimeout(() => {\n",
       "                element.innerHTML = originalHTML;\n",
       "                element.style = originalStyle;\n",
       "            }, 2000);\n",
       "        })\n",
       "        .catch(err => {\n",
       "            console.error('Failed to copy:', err);\n",
       "            element.style.color = 'red';\n",
       "            element.innerHTML = \"Failed!\";\n",
       "            setTimeout(() => {\n",
       "                element.innerHTML = originalHTML;\n",
       "                element.style = originalStyle;\n",
       "            }, 2000);\n",
       "        });\n",
       "    return false;\n",
       "}\n",
       "\n",
       "document.querySelectorAll('.fa-regular.fa-copy').forEach(function(element) {\n",
       "    const toggleableContent = element.closest('.sk-toggleable__content');\n",
       "    const paramPrefix = toggleableContent ? toggleableContent.dataset.paramPrefix : '';\n",
       "    const paramName = element.parentElement.nextElementSibling.textContent.trim();\n",
       "    const fullParamName = paramPrefix ? `${paramPrefix}${paramName}` : paramName;\n",
       "\n",
       "    element.setAttribute('title', fullParamName);\n",
       "});\n",
       "</script></body>"
      ],
      "text/plain": [
       "LGBMClassifier(bagging_fraction=0.5929453470563474,\n",
       "               feature_fraction=0.5512734781909172,\n",
       "               learning_rate=0.12135248320669911, max_depth=11,\n",
       "               min_child_samples=100, n_jobs=-1, num_leaves=114,\n",
       "               objective='binary', scale_pos_weight=2.19693154497164,\n",
       "               verbosity=-1)"
      ]
     },
     "execution_count": 61,
     "metadata": {},
     "output_type": "execute_result"
    }
   ],
   "source": [
    "# You can then use best_params to retrain your model like this:\n",
    "final_model = lgb.LGBMClassifier(**best_params)\n",
    "final_model.fit(X_train, y_train)\n"
   ]
  },
  {
   "cell_type": "code",
   "execution_count": 62,
   "id": "6ac0949c-ae13-4f29-bd57-9e216a65553e",
   "metadata": {},
   "outputs": [],
   "source": [
    "# Predict probability of rain\n",
    "y_pred_proba = final_model.predict_proba(X_test)[:, 1]\n",
    "\n",
    "# Convert probabilities to binary prediction (0 = No Rain, 1 = Rain)\n",
    "y_pred = (y_pred_proba >= 0.5).astype(int)\n"
   ]
  },
  {
   "cell_type": "code",
   "execution_count": 63,
   "id": "44ef049d-bb51-4fa2-aab9-1792299815fb",
   "metadata": {},
   "outputs": [
    {
     "name": "stdout",
     "output_type": "stream",
     "text": [
      "AUC Score: 0.8912415845804287\n",
      "Classification Report:\n",
      "               precision    recall  f1-score   support\n",
      "\n",
      "           0       0.91      0.89      0.90     22672\n",
      "           1       0.63      0.69      0.66      6420\n",
      "\n",
      "    accuracy                           0.84     29092\n",
      "   macro avg       0.77      0.79      0.78     29092\n",
      "weighted avg       0.85      0.84      0.85     29092\n",
      "\n",
      "Confusion Matrix:\n",
      " [[20066  2606]\n",
      " [ 1975  4445]]\n"
     ]
    }
   ],
   "source": [
    "from sklearn.metrics import classification_report, confusion_matrix, roc_auc_score\n",
    "\n",
    "print(\"AUC Score:\", roc_auc_score(y_test, y_pred_proba))\n",
    "print(\"Classification Report:\\n\", classification_report(y_test, y_pred))\n",
    "print(\"Confusion Matrix:\\n\", confusion_matrix(y_test, y_pred))\n"
   ]
  },
  {
   "cell_type": "markdown",
   "id": "7924e96b-1d29-4dd2-bc83-f395bbd58e51",
   "metadata": {},
   "source": [
    "### (Optional) Save the Model\n",
    "If you want to use the model later:\n",
    "\n",
    "```python\n",
    "import joblib\n",
    "joblib.dump(final_model, 'rain_prediction_model.pkl')\n",
    "```"
   ]
  },
  {
   "cell_type": "markdown",
   "id": "bcf9249c-5efd-45d8-8bdc-019b0145a254",
   "metadata": {},
   "source": [
    "\n",
    "### (Optional) Predict on New Data\n",
    "To predict rainfall for tomorrow’s conditions:\n",
    "\n",
    "```python\n",
    "# Example new sample (make sure it’s preprocessed the same way as your training set)\n",
    "new_sample = pd.DataFrame([{\n",
    "    'MinTemp': 10.2,\n",
    "    'MaxTemp': 21.5,\n",
    "    'Rainfall': 0.0,\n",
    "    'Humidity9am': 80,\n",
    "    'Humidity3pm': 65,\n",
    "    # Add all other required features...\n",
    "}])\n",
    "\n",
    "# Apply same preprocessing as training data\n",
    "# ...\n",
    "\n",
    "# Predict rain\n",
    "rain_prob = final_model.predict_proba(new_sample)[:, 1]\n",
    "rain_prediction = (rain_prob >= 0.5).astype(int)\n",
    "\n",
    "print(\"Will it rain tomorrow?\", \"Yes\" if rain_prediction[0] == 1 else \"No\")\n",
    "\n",
    "```"
   ]
  },
  {
   "cell_type": "code",
   "execution_count": 66,
   "id": "67dd55a4-7ce7-4f58-a1e0-a0d6a4484240",
   "metadata": {},
   "outputs": [
    {
     "data": {
      "text/plain": [
       "['rain_prediction_model.pkl']"
      ]
     },
     "execution_count": 66,
     "metadata": {},
     "output_type": "execute_result"
    }
   ],
   "source": [
    "import joblib\n",
    "joblib.dump(final_model, 'rain_prediction_model.pkl')"
   ]
  },
  {
   "cell_type": "code",
   "execution_count": 67,
   "id": "00d0de44-59aa-4190-8e30-299bbf377735",
   "metadata": {},
   "outputs": [
    {
     "name": "stdout",
     "output_type": "stream",
     "text": [
      "['Location', 'MinTemp', 'MaxTemp', 'Rainfall', 'Evaporation', 'Sunshine', 'WindGustDir', 'WindGustSpeed', 'WindDir9am', 'WindDir3pm', 'WindSpeed9am', 'WindSpeed3pm', 'Humidity9am', 'Humidity3pm', 'Pressure9am', 'Pressure3pm', 'Cloud9am', 'Cloud3pm', 'Temp9am', 'Temp3pm', 'RainToday']\n"
     ]
    }
   ],
   "source": [
    "print(X_train.columns.tolist())\n"
   ]
  },
  {
   "cell_type": "code",
   "execution_count": null,
   "id": "472e7244-869e-4c8d-b33a-97dde9666ac3",
   "metadata": {},
   "outputs": [],
   "source": []
  },
  {
   "cell_type": "code",
   "execution_count": null,
   "id": "681818b5-f912-4039-ae8b-30cfc79afcdf",
   "metadata": {},
   "outputs": [],
   "source": []
  }
 ],
 "metadata": {
  "kernelspec": {
   "display_name": "python (myenv)",
   "language": "python",
   "name": "myenv"
  },
  "language_info": {
   "codemirror_mode": {
    "name": "ipython",
    "version": 3
   },
   "file_extension": ".py",
   "mimetype": "text/x-python",
   "name": "python",
   "nbconvert_exporter": "python",
   "pygments_lexer": "ipython3",
   "version": "3.10.11"
  }
 },
 "nbformat": 4,
 "nbformat_minor": 5
}
